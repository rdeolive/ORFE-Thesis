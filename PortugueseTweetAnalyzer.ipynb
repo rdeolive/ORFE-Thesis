{
 "cells": [
  {
   "cell_type": "markdown",
   "metadata": {
    "_uuid": "39b49805abea346b301e8be2f6317f41f2040cb0"
   },
   "source": [
    "<h1>Portuguese Tweets for Sentiment Analysis using nltk and sklearn</h1>"
   ]
  },
  {
   "cell_type": "markdown",
   "metadata": {
    "_uuid": "5bc3c7ad3030f6600bd9515a1aae3d5ee3266bdb"
   },
   "source": [
    "<h2>Context</h2>\n",
    "<br/>\n",
    "This dataset has portuguese tweets divided in positive, negative and neutral classes for sentiment polarity classification.\n",
    "<br/>\n",
    "This dataset is very interesting, we are dealing with the popular language in social networks.\n",
    "<br/>\n",
    "It is necessary to perform some more careful treatment, such as noise removal, dimensionality reduction, object standardization and evaluation of some symbols, if they are important to express some sentiment.\n",
    "\n",
    "<h4>Dataset</h4>\n",
    "<ul>\n",
    "  <li>Training dataset: Train3Classes.csv</li>\n",
    "  <li>Test dataset: Test3Classes.csv</li>\n",
    "   <li>Custom Stopwords: stopwords-pt-br.txt</li>\n",
    "</ul> \n",
    "\n",
    "<h4>Columns description</h4>\n",
    "<ul>\n",
    "  <li>id: String identifier directly from Twitter</li>\n",
    "  <li>tweet_text: Full text from the tweet</li>\n",
    "  <li>tweet_date: Tweet creation date</li>\n",
    "  <li>sentiment: Sentiment label (classifier)</li>\n",
    "  <li>query_used: Query used to collect the tweet</li>\n",
    "</ul> "
   ]
  },
  {
   "cell_type": "markdown",
   "metadata": {
    "_uuid": "ddc50702a705d574bfd4e1b62d87242364f76f8b"
   },
   "source": [
    "<h2>Content</h2>\n",
    "<ul>\n",
    "  <li>Load libraries</li>\n",
    "  <li>Setup</li>\n",
    "  <li>Load training dataset</li>\n",
    "  <li>Load validation dataset</li>\n",
    "  <li>Text preprocessing</li>\n",
    "  <li>Exploratory analysis in words</li>\n",
    "  <li>Bag-of-Words</li>\n",
    "  <li>Prepare algorithm and run model</li>\n",
    "  <li>Standalone predictions</li>\n",
    "  <li>Evaluate the model</li>\n",
    "  <li>Building a pipeline MultinomialNB</li>\n",
    "  <li>Building a pipeline SGDClassifier, a linear support vector machine (SVM)</li>\n",
    "  <li>Parameter tuning using grid search SGDClassifier</li>\n",
    "  <li>Evaluating other models</li>\n",
    "  <li>Implementing a Linear Classifier (Logistic Regression)</li>\n",
    "  <li>Implementing a Support Vector Machine (SVM) Model</li>\n",
    "  <li>Implementing Gradient Boosting Model</li>\n",
    "  <li>Implementing Neural Networks (not implemented...)</li>\n",
    "</ul>"
   ]
  },
  {
   "cell_type": "markdown",
   "metadata": {
    "_uuid": "b4f29bda96d086b23f57e2d4aa970c3c1e037578"
   },
   "source": [
    "<h2>Load libraries</h2>"
   ]
  },
  {
   "cell_type": "code",
   "execution_count": 4,
   "metadata": {
    "_uuid": "919b480a6075584c5f93cf511e90001ddcc7b649"
   },
   "outputs": [],
   "source": [
    "import os\n",
    "import pandas as pd\n",
    "import numpy as np\n",
    "import random\n",
    "import re\n",
    "import nltk\n",
    "from nltk.tokenize import word_tokenize\n",
    "from nltk.tokenize import wordpunct_tokenize\n",
    "# from nltk.tokenize import sent_tokenize (Tokenization)\n",
    "from nltk.probability import FreqDist\n",
    "from nltk.metrics import ConfusionMatrix\n",
    "from wordcloud import WordCloud\n",
    "import matplotlib.pyplot as plt\n",
    "from sklearn.feature_extraction.text import CountVectorizer\n",
    "from sklearn.feature_extraction.text import TfidfTransformer\n",
    "from sklearn.naive_bayes import MultinomialNB\n",
    "from sklearn.linear_model import SGDClassifier\n",
    "from sklearn.linear_model import LogisticRegression\n",
    "from sklearn.svm import SVC\n",
    "from sklearn.ensemble import RandomForestClassifier\n",
    "from sklearn.pipeline import Pipeline\n",
    "from sklearn import metrics\n",
    "from sklearn.model_selection import GridSearchCV"
   ]
  },
  {
   "cell_type": "markdown",
   "metadata": {
    "_uuid": "366989e56ccc82d379ff9b15417e9284bab1ea5b"
   },
   "source": [
    "<h2>Setup</h2>"
   ]
  },
  {
   "cell_type": "code",
   "execution_count": 5,
   "metadata": {
    "_uuid": "d0ac2f7b061d8f1844daaba564da66e87e858cde"
   },
   "outputs": [],
   "source": [
    "# predictor\n",
    "X_col = 'tweet_text'\n",
    "# classifier\n",
    "y_col = 'sentiment' "
   ]
  },
  {
   "cell_type": "markdown",
   "metadata": {
    "_uuid": "6340d1fa4e6c1eb7317bc41d0e455f38cecff5e7"
   },
   "source": [
    "<h2>Load training dataset</h2>"
   ]
  },
  {
   "cell_type": "markdown",
   "metadata": {
    "_uuid": "3796005c75ed73e961631cd6148ac209865498d7"
   },
   "source": [
    "<h4>Load and prepare X_train, y_train</h4>"
   ]
  },
  {
   "cell_type": "code",
   "execution_count": 6,
   "metadata": {
    "_uuid": "5d6cf76ed57e7c9f7046c776b981afae40bc16cc"
   },
   "outputs": [],
   "source": [
    "train_ds = pd.read_csv('Train3Classes.csv', delimiter=';')"
   ]
  },
  {
   "cell_type": "code",
   "execution_count": 7,
   "metadata": {
    "_uuid": "badd50ff9bcca2cf1f8f6a115567269ec611f882"
   },
   "outputs": [],
   "source": [
    "# update classifiers to nominal value\n",
    "train_ds[y_col] = train_ds[y_col].map({0: 'Negative', 1: 'Positive', 2: 'Neutral'})"
   ]
  },
  {
   "cell_type": "code",
   "execution_count": 8,
   "metadata": {
    "_uuid": "84ea1d97bb21d5ffcc0dc5ae583ae311002e1771"
   },
   "outputs": [],
   "source": [
    "X_train = train_ds.loc[:, X_col].values\n",
    "y_train = train_ds.loc[:, y_col].values"
   ]
  },
  {
   "cell_type": "code",
   "execution_count": 9,
   "metadata": {},
   "outputs": [
    {
     "ename": "NameError",
     "evalue": "name 'X_test' is not defined",
     "output_type": "error",
     "traceback": [
      "\u001b[0;31m---------------------------------------------------------------------------\u001b[0m",
      "\u001b[0;31mNameError\u001b[0m                                 Traceback (most recent call last)",
      "\u001b[0;32m<ipython-input-9-54421d5be107>\u001b[0m in \u001b[0;36m<module>\u001b[0;34m()\u001b[0m\n\u001b[0;32m----> 1\u001b[0;31m \u001b[0mprint\u001b[0m\u001b[0;34m(\u001b[0m\u001b[0mlen\u001b[0m\u001b[0;34m(\u001b[0m\u001b[0mX_test\u001b[0m\u001b[0;34m)\u001b[0m\u001b[0;34m)\u001b[0m\u001b[0;34m\u001b[0m\u001b[0m\n\u001b[0m",
      "\u001b[0;31mNameError\u001b[0m: name 'X_test' is not defined"
     ]
    }
   ],
   "source": [
    "print(len(X_test))"
   ]
  },
  {
   "cell_type": "markdown",
   "metadata": {
    "_uuid": "099ce684b4fe8f313bb2c6fc51bee367fb79c9fe"
   },
   "source": [
    "<h4>Exploratory Analysis</h4>"
   ]
  },
  {
   "cell_type": "code",
   "execution_count": 11,
   "metadata": {
    "_uuid": "515a9096a3a52d337223b5c0599bbf3fe890f457"
   },
   "outputs": [
    {
     "data": {
      "text/html": [
       "<div>\n",
       "<style scoped>\n",
       "    .dataframe tbody tr th:only-of-type {\n",
       "        vertical-align: middle;\n",
       "    }\n",
       "\n",
       "    .dataframe tbody tr th {\n",
       "        vertical-align: top;\n",
       "    }\n",
       "\n",
       "    .dataframe thead th {\n",
       "        text-align: right;\n",
       "    }\n",
       "</style>\n",
       "<table border=\"1\" class=\"dataframe\">\n",
       "  <thead>\n",
       "    <tr style=\"text-align: right;\">\n",
       "      <th></th>\n",
       "      <th>id</th>\n",
       "      <th>tweet_text</th>\n",
       "      <th>tweet_date</th>\n",
       "      <th>sentiment</th>\n",
       "      <th>query_used</th>\n",
       "    </tr>\n",
       "  </thead>\n",
       "  <tbody>\n",
       "    <tr>\n",
       "      <th>17571</th>\n",
       "      <td>1047367450164174850</td>\n",
       "      <td>@sehunjj boa noite minha considerada :)</td>\n",
       "      <td>Wed Oct 03 06:07:13 +0000 2018</td>\n",
       "      <td>Positive</td>\n",
       "      <td>:)</td>\n",
       "    </tr>\n",
       "    <tr>\n",
       "      <th>81708</th>\n",
       "      <td>1040965215972728832</td>\n",
       "      <td>Maternidade real para quem? https://t.co/5iWdu...</td>\n",
       "      <td>Sat Sep 15 14:07:02 +0000 2018</td>\n",
       "      <td>Neutral</td>\n",
       "      <td>folha</td>\n",
       "    </tr>\n",
       "    <tr>\n",
       "      <th>79744</th>\n",
       "      <td>1042417934654734336</td>\n",
       "      <td>Não tenho um procurador-geral, diz Trump em at...</td>\n",
       "      <td>Wed Sep 19 14:19:37 +0000 2018</td>\n",
       "      <td>Neutral</td>\n",
       "      <td>exame</td>\n",
       "    </tr>\n",
       "    <tr>\n",
       "      <th>90355</th>\n",
       "      <td>1043488433576923136</td>\n",
       "      <td>#Fato Bom dia!!!! 🌞 https://t.co/NJnCczWe6J</td>\n",
       "      <td>Sat Sep 22 13:13:24 +0000 2018</td>\n",
       "      <td>Neutral</td>\n",
       "      <td>#fato</td>\n",
       "    </tr>\n",
       "    <tr>\n",
       "      <th>67725</th>\n",
       "      <td>1050083544762970112</td>\n",
       "      <td>&amp;gt;@EstadaoPolitica PT tira nome de Lula e co...</td>\n",
       "      <td>Wed Oct 10 18:00:01 +0000 2018</td>\n",
       "      <td>Neutral</td>\n",
       "      <td>estadao</td>\n",
       "    </tr>\n",
       "  </tbody>\n",
       "</table>\n",
       "</div>"
      ],
      "text/plain": [
       "                        id                                         tweet_text  \\\n",
       "17571  1047367450164174850            @sehunjj boa noite minha considerada :)   \n",
       "81708  1040965215972728832  Maternidade real para quem? https://t.co/5iWdu...   \n",
       "79744  1042417934654734336  Não tenho um procurador-geral, diz Trump em at...   \n",
       "90355  1043488433576923136        #Fato Bom dia!!!! 🌞 https://t.co/NJnCczWe6J   \n",
       "67725  1050083544762970112  &gt;@EstadaoPolitica PT tira nome de Lula e co...   \n",
       "\n",
       "                           tweet_date sentiment query_used  \n",
       "17571  Wed Oct 03 06:07:13 +0000 2018  Positive         :)  \n",
       "81708  Sat Sep 15 14:07:02 +0000 2018   Neutral      folha  \n",
       "79744  Wed Sep 19 14:19:37 +0000 2018   Neutral      exame  \n",
       "90355  Sat Sep 22 13:13:24 +0000 2018   Neutral      #fato  \n",
       "67725  Wed Oct 10 18:00:01 +0000 2018   Neutral    estadao  "
      ]
     },
     "execution_count": 11,
     "metadata": {},
     "output_type": "execute_result"
    }
   ],
   "source": [
    "# train_ds.head(5)\n",
    "train_ds.sample(5)"
   ]
  },
  {
   "cell_type": "code",
   "execution_count": 12,
   "metadata": {
    "_uuid": "754cdcf1f1b7e2d5abfc5a97f5c53891842be1e1"
   },
   "outputs": [
    {
     "data": {
      "image/png": "[encoded data removed]",
      "text/plain": [
       "<Figure size 432x288 with 1 Axes>"
      ]
     },
     "metadata": {
      "needs_background": "light"
     },
     "output_type": "display_data"
    }
   ],
   "source": [
    "series = train_ds['sentiment'].value_counts()\n",
    "ax = series.plot(kind='bar', title='Number for each sentiment')\n",
    "ax.set_xlabel('Sentiment')\n",
    "ax.set_ylabel('Count')\n",
    "plt.show()"
   ]
  },
  {
   "cell_type": "code",
   "execution_count": 13,
   "metadata": {
    "_uuid": "f4322748847ba1eeefb9b62ef8033dfc548fd5c1"
   },
   "outputs": [
    {
     "data": {
      "image/png": "[encoded data removed]",
      "text/plain": [
       "<Figure size 432x288 with 1 Axes>"
      ]
     },
     "metadata": {
      "needs_background": "light"
     },
     "output_type": "display_data"
    }
   ],
   "source": [
    "series = train_ds['query_used'].value_counts()\n",
    "ax = series.plot(kind='bar', title='Number for each sentiment')\n",
    "ax.set_xlabel('Sentiment')\n",
    "ax.set_ylabel('Count')\n",
    "plt.show()"
   ]
  },
  {
   "cell_type": "code",
   "execution_count": 14,
   "metadata": {
    "_uuid": "d72f9eb3d6d6c3404ef6b8670f932e3df11ce552"
   },
   "outputs": [
    {
     "name": "stdout",
     "output_type": "stream",
     "text": [
      "Positive  =>  @Laranjito76 A pessoa certa para isso seria o vale e azevedo :)\n",
      "Positive  =>  @behin_d_curtain Para mim, é precisamente o contrário :) Vem a chuva e vem a boa disposição :)\n",
      "Positive  =>  Vou fazer um video hoje... estou pensando em falar um pouco sobre o novo meta do CSGO e sobre a pagina https://t.co/5RjhKnj0oh Alguem tem uma sugestao? Queria falar sobre algo do cenario nacional :D\n",
      "Positive  =>  aaaaaaaa amei tanto essas polaroids, nem sei expressar o quanto eu to apaixonada de vdd✨💖🎈🎉🎊 espero que outras pessoas consigam ganhar também :) https://t.co/pbIp7tRcSE\n",
      "Positive  =>  Valoriza o coração do menininho que vc tem. Ele é diferente. O faça sorrir e ter certeza disso ❤️ — Eu valorizo todo mundo na minha vida, não vai ser diferente com ele :)) https://t.co/5c7wlXQyz9\n"
     ]
    }
   ],
   "source": [
    "# check data\n",
    "for i in range(0, 5):\n",
    "    print(y_train[i], ' => ', X_train[i])"
   ]
  },
  {
   "cell_type": "markdown",
   "metadata": {
    "_uuid": "bdd6a3d606009437ee4ee38dd11f470760264270"
   },
   "source": [
    "<h2>Load validation dataset</h2>"
   ]
  },
  {
   "cell_type": "markdown",
   "metadata": {
    "_uuid": "1b5b4a2392ba9ae997f1b164def53640ff846d44"
   },
   "source": [
    "<h4>Load and prepare X_test, y_test</h4>"
   ]
  },
  {
   "cell_type": "code",
   "execution_count": 15,
   "metadata": {
    "_uuid": "f14761dc0ae7048098e1bf7c35f79694ca7f75ac"
   },
   "outputs": [],
   "source": [
    "test_ds = pd.read_csv('Test3classes.csv', delimiter=';')"
   ]
  },
  {
   "cell_type": "code",
   "execution_count": 16,
   "metadata": {
    "_uuid": "d68718ac2c405af81f91e5e1e9d339d072cd5d90"
   },
   "outputs": [],
   "source": [
    "# update classifiers to nominal value\n",
    "test_ds[y_col] = test_ds[y_col].map({0: 'Negative', 1: 'Positive', 2: 'Neutral'})"
   ]
  },
  {
   "cell_type": "code",
   "execution_count": 17,
   "metadata": {
    "_uuid": "35930aa369ad1f9bc27766c09002988bb0da5bff"
   },
   "outputs": [],
   "source": [
    "X_test = test_ds.loc[:, X_col].values\n",
    "y_test = test_ds.loc[:, y_col].values"
   ]
  },
  {
   "cell_type": "markdown",
   "metadata": {
    "_uuid": "9b332901f1d5ce9e2396a9536c8353c57484754d"
   },
   "source": [
    "<h4>Exploratory Analysis</h4>"
   ]
  },
  {
   "cell_type": "code",
   "execution_count": 18,
   "metadata": {
    "_uuid": "dd83c5192db56c7d914fe3ca42add0e4a48a5427"
   },
   "outputs": [
    {
     "data": {
      "text/html": [
       "<div>\n",
       "<style scoped>\n",
       "    .dataframe tbody tr th:only-of-type {\n",
       "        vertical-align: middle;\n",
       "    }\n",
       "\n",
       "    .dataframe tbody tr th {\n",
       "        vertical-align: top;\n",
       "    }\n",
       "\n",
       "    .dataframe thead th {\n",
       "        text-align: right;\n",
       "    }\n",
       "</style>\n",
       "<table border=\"1\" class=\"dataframe\">\n",
       "  <thead>\n",
       "    <tr style=\"text-align: right;\">\n",
       "      <th></th>\n",
       "      <th>id</th>\n",
       "      <th>tweet_text</th>\n",
       "      <th>tweet_date</th>\n",
       "      <th>sentiment</th>\n",
       "      <th>query_used</th>\n",
       "    </tr>\n",
       "  </thead>\n",
       "  <tbody>\n",
       "    <tr>\n",
       "      <th>3932</th>\n",
       "      <td>1023259792553463808</td>\n",
       "      <td>Ex-presidente da Catalunha promete continuar c...</td>\n",
       "      <td>Sat Jul 28 17:32:00 +0000 2018</td>\n",
       "      <td>Neutral</td>\n",
       "      <td>jornaloglobo</td>\n",
       "    </tr>\n",
       "    <tr>\n",
       "      <th>3089</th>\n",
       "      <td>1030512875373252608</td>\n",
       "      <td>queria muito ter ido a escola hoje :(</td>\n",
       "      <td>Fri Aug 17 17:53:10 +0000 2018</td>\n",
       "      <td>Negative</td>\n",
       "      <td>:(</td>\n",
       "    </tr>\n",
       "    <tr>\n",
       "      <th>54</th>\n",
       "      <td>1029537555161788416</td>\n",
       "      <td>@llmrxx Feia é impossivel *-* :p</td>\n",
       "      <td>Wed Aug 15 01:17:35 +0000 2018</td>\n",
       "      <td>Positive</td>\n",
       "      <td>:)</td>\n",
       "    </tr>\n",
       "    <tr>\n",
       "      <th>788</th>\n",
       "      <td>1029553236666212353</td>\n",
       "      <td>@Nalice_Freitas Essa banda aí é bom com cana :)</td>\n",
       "      <td>Wed Aug 15 02:19:54 +0000 2018</td>\n",
       "      <td>Positive</td>\n",
       "      <td>:)</td>\n",
       "    </tr>\n",
       "    <tr>\n",
       "      <th>4836</th>\n",
       "      <td>1025028446206930947</td>\n",
       "      <td>MP de Santa Catarina desmantela organização cr...</td>\n",
       "      <td>Thu Aug 02 14:40:00 +0000 2018</td>\n",
       "      <td>Neutral</td>\n",
       "      <td>jornaloglobo</td>\n",
       "    </tr>\n",
       "  </tbody>\n",
       "</table>\n",
       "</div>"
      ],
      "text/plain": [
       "                       id                                         tweet_text  \\\n",
       "3932  1023259792553463808  Ex-presidente da Catalunha promete continuar c...   \n",
       "3089  1030512875373252608              queria muito ter ido a escola hoje :(   \n",
       "54    1029537555161788416                   @llmrxx Feia é impossivel *-* :p   \n",
       "788   1029553236666212353    @Nalice_Freitas Essa banda aí é bom com cana :)   \n",
       "4836  1025028446206930947  MP de Santa Catarina desmantela organização cr...   \n",
       "\n",
       "                          tweet_date sentiment    query_used  \n",
       "3932  Sat Jul 28 17:32:00 +0000 2018   Neutral  jornaloglobo  \n",
       "3089  Fri Aug 17 17:53:10 +0000 2018  Negative            :(  \n",
       "54    Wed Aug 15 01:17:35 +0000 2018  Positive            :)  \n",
       "788   Wed Aug 15 02:19:54 +0000 2018  Positive            :)  \n",
       "4836  Thu Aug 02 14:40:00 +0000 2018   Neutral  jornaloglobo  "
      ]
     },
     "execution_count": 18,
     "metadata": {},
     "output_type": "execute_result"
    }
   ],
   "source": [
    "# test_ds.head(5)\n",
    "test_ds.sample(5)"
   ]
  },
  {
   "cell_type": "code",
   "execution_count": 19,
   "metadata": {
    "_uuid": "e08b54bdb769ca2b79d8cd8533ec60d60b86cffe"
   },
   "outputs": [
    {
     "data": {
      "image/png": "[encoded data removed]",
      "text/plain": [
       "<Figure size 432x288 with 1 Axes>"
      ]
     },
     "metadata": {
      "needs_background": "light"
     },
     "output_type": "display_data"
    }
   ],
   "source": [
    "series = test_ds['sentiment'].value_counts()\n",
    "ax = series.plot(kind='bar', title='Number for each sentiment')\n",
    "ax.set_xlabel('Sentiment')\n",
    "ax.set_ylabel('Count')\n",
    "plt.show()"
   ]
  },
  {
   "cell_type": "code",
   "execution_count": 20,
   "metadata": {
    "_uuid": "9aafff39c4c8a9f57b80dcd4661b74fb0b1341d6"
   },
   "outputs": [
    {
     "data": {
      "image/png": "[encoded data removed]",
      "text/plain": [
       "<Figure size 432x288 with 1 Axes>"
      ]
     },
     "metadata": {
      "needs_background": "light"
     },
     "output_type": "display_data"
    }
   ],
   "source": [
    "series = test_ds['query_used'].value_counts()\n",
    "ax = series.plot(kind='bar', title='Number for each sentiment')\n",
    "ax.set_xlabel('Sentiment')\n",
    "ax.set_ylabel('Count')\n",
    "plt.show()"
   ]
  },
  {
   "cell_type": "code",
   "execution_count": 21,
   "metadata": {
    "_uuid": "721c71d258d404fe9f92059263854e918d9e7f64"
   },
   "outputs": [
    {
     "name": "stdout",
     "output_type": "stream",
     "text": [
      "Positive  =>  @Gazo1a Nossa! Muito obrigada :)\n",
      "Positive  =>  @BerzGamer vai pa puta que te pariu :)\n",
      "Positive  =>  QUER MAIS DESCONTOS? (14/08) ⭐⭐⭐⭐⭐ 🌐 Confira no link ➔ https://t.co/jhh0Ttlpq3 | » Compartilhe! « Não encontrou a oferta ou cupom que procurava? Não se preocupe ;) criamos uma pagina com mais ofertas e cupons atualizada diariamente :) https://t.co/IgeeD0WmPf\n",
      "Positive  =>  EU VOU PEGAR VCS, ME AJUDEM GALERA, PELO AMOR DE BUTERA. :) #MMVAs #iHeartRadioMMVAs #FFSingleNoTears https://t.co/ghZMLqRFiV\n",
      "Positive  =>  Estávamos em casa do Zé e eu estava a morrer de sono, chego a casa e fico sem sono :))))\n"
     ]
    }
   ],
   "source": [
    "# check data\n",
    "for i in range(0, 5):\n",
    "    print(y_test[i], ' => ', X_test[i])"
   ]
  },
  {
   "cell_type": "markdown",
   "metadata": {
    "_uuid": "cbd7bc340b754fd41719e7e472c120036df3c181"
   },
   "source": [
    "<h2>Text Preprocessing</h2>"
   ]
  },
  {
   "cell_type": "markdown",
   "metadata": {
    "_uuid": "e0fa7ffe4702a970770210c0d5e84d99a2a5b67d"
   },
   "source": [
    "<h4>Planning</h4>\n",
    "<ul>\n",
    "  <li>Noise Removal</li>\n",
    "    <ul>\n",
    "      <li>Remove urls from text (http(s), www)</li>\n",
    "      <li>Remove a regex pattern (hashtags, notations)</li>\n",
    "      <li>Prepare text, replace emoticons \":)) :) :D :(\" to positive_emoticon or negative_emoticon or neutral_emoticon tags</li>\n",
    "    </ul>\n",
    "  <li>Tokenize text with nltk</li>\n",
    "  <li>Object Standardization</li>\n",
    "  <li>Remove stopwords (noise removal and dimensionality reduction)</li>\n",
    "  <li>Lexicon Normalization</li>\n",
    "    <ul>\n",
    "      <li>Lemmatization (not implemented...)</li>\n",
    "      <li>Stemming (dimensionality reduction)</li>\n",
    "    </ul>\n",
    "</ul> "
   ]
  },
  {
   "cell_type": "markdown",
   "metadata": {
    "_uuid": "64a6bcec4c251bcdb97dbb5e3c7f57776dfd68f0"
   },
   "source": [
    "<h4>Examples of emoticons</h4>"
   ]
  },
  {
   "cell_type": "markdown",
   "metadata": {
    "_uuid": "5f6986c23fc2eaaa528220adf21d2a42b7c08ef5"
   },
   "source": [
    "<h4>Noise Removal</h4>"
   ]
  },
  {
   "cell_type": "markdown",
   "metadata": {
    "_uuid": "7930c6a98074a8666f0fd4d896f7c79e38615049"
   },
   "source": [
    "Remove urls from text (http(s), www)"
   ]
  },
  {
   "cell_type": "code",
   "execution_count": 22,
   "metadata": {
    "_uuid": "e5d26054f5f80d24cd741780a750876d1dc35234"
   },
   "outputs": [],
   "source": [
    "def _remove_url(data):\n",
    "    ls = []\n",
    "    words = ''\n",
    "    regexp1 = re.compile('http[s]?://(?:[a-zA-Z]|[0-9]|[$-_@.&+]|[!*\\(\\),]|(?:%[0-9a-fA-F][0-9a-fA-F]))+')\n",
    "    regexp2 = re.compile('www?.(?:[a-zA-Z]|[0-9]|[$-_@.&+]|[!*\\(\\),]|(?:%[0-9a-fA-F][0-9a-fA-F]))+')\n",
    "    \n",
    "    for line in data:\n",
    "        urls = regexp1.findall(line)\n",
    "\n",
    "        for u in urls:\n",
    "            line = line.replace(u, ' ')\n",
    "\n",
    "        urls = regexp2.findall(line)\n",
    "\n",
    "        for u in urls:\n",
    "            line = line.replace(u, ' ')\n",
    "            \n",
    "        ls.append(line)\n",
    "    return ls"
   ]
  },
  {
   "cell_type": "code",
   "execution_count": 23,
   "metadata": {
    "_uuid": "4b4cb2e93c9eef7e403b2dc11edd49db08e862d5"
   },
   "outputs": [],
   "source": [
    "X_train = _remove_url(X_train)\n",
    "X_test = _remove_url(X_test)"
   ]
  },
  {
   "cell_type": "markdown",
   "metadata": {
    "_uuid": "5e07dc326bac08bf835ddeb3227de048d4b9601b"
   },
   "source": [
    "Remove a regex pattern (hashtags, notations)"
   ]
  },
  {
   "cell_type": "code",
   "execution_count": 24,
   "metadata": {
    "_uuid": "03f2d222c1a3195ed3cc27e9d68568f04681f9ef"
   },
   "outputs": [],
   "source": [
    "def _remove_regex(data, regex_pattern):\n",
    "    ls = []\n",
    "    words = ''\n",
    "    \n",
    "    for line in data:\n",
    "        matches = re.finditer(regex_pattern, line)\n",
    "        \n",
    "        for m in matches: \n",
    "            line = re.sub(m.group().strip(), '', line)\n",
    "\n",
    "        ls.append(line)\n",
    "\n",
    "    return ls"
   ]
  },
  {
   "cell_type": "code",
   "execution_count": 25,
   "metadata": {
    "_uuid": "acecf0294d1de79dda5f206a58fd50bb48275df4"
   },
   "outputs": [],
   "source": [
    "# hashtags\n",
    "regex_pattern = '#[\\w]*'\n",
    "X_train = _remove_regex(X_train, regex_pattern)\n",
    "X_test = _remove_regex(X_test, regex_pattern)"
   ]
  },
  {
   "cell_type": "code",
   "execution_count": 26,
   "metadata": {
    "_uuid": "3497146e06fa9d24c47dd29d8cf5f772f67a4c92"
   },
   "outputs": [],
   "source": [
    "# notations\n",
    "regex_pattern = '@[\\w]*'\n",
    "X_train = _remove_regex(X_train, regex_pattern)\n",
    "X_test = _remove_regex(X_test, regex_pattern)"
   ]
  },
  {
   "cell_type": "code",
   "execution_count": 27,
   "metadata": {
    "_uuid": "2309bf72c0aad14c571a623bd483b2f4bba2e8c9"
   },
   "outputs": [
    {
     "name": "stdout",
     "output_type": "stream",
     "text": [
      " A pessoa certa para isso seria o vale e azevedo :)\n",
      " Para mim, é precisamente o contrário :) Vem a chuva e vem a boa disposição :)\n",
      "Vou fazer um video hoje... estou pensando em falar um pouco sobre o novo meta do CSGO e sobre a pagina   Alguem tem uma sugestao? Queria falar sobre algo do cenario nacional :D\n",
      "aaaaaaaa amei tanto essas polaroids, nem sei expressar o quanto eu to apaixonada de vdd✨💖🎈🎉🎊 espero que outras pessoas consigam ganhar também :)  \n",
      "Valoriza o coração do menininho que vc tem. Ele é diferente. O faça sorrir e ter certeza disso ❤️ — Eu valorizo todo mundo na minha vida, não vai ser diferente com ele :))  \n"
     ]
    }
   ],
   "source": [
    "# check data\n",
    "for i in range(0, 5):\n",
    "    print(X_train[i])"
   ]
  },
  {
   "cell_type": "markdown",
   "metadata": {
    "_uuid": "e782207b501150d076945e4bc96d2545f84e62c6"
   },
   "source": [
    "Prepare text, replace emoticons \":)) :) :D :(\" to positive_emoticon or negative_emoticon or neutral_emoticon"
   ]
  },
  {
   "cell_type": "code",
   "execution_count": 28,
   "metadata": {
    "_uuid": "99d8c0fc7e981b49831f442f76382e8051d78ab8"
   },
   "outputs": [],
   "source": [
    "def _replace_emoticons(data, emoticon_list):\n",
    "    ls = []\n",
    "\n",
    "    for line in data:\n",
    "        for exp in emoticon_list:\n",
    "            line = line.replace(exp, emoticon_list[exp])\n",
    "\n",
    "        ls.append(line)\n",
    "\n",
    "    return ls"
   ]
  },
  {
   "cell_type": "code",
   "execution_count": 29,
   "metadata": {
    "_uuid": "685e6a7a9826385f33101ff5e777a827140e6650"
   },
   "outputs": [],
   "source": [
    "emoticon_list = {':))': 'positive_emoticon', ':)': 'positive_emoticon', ':D': 'positive_emoticon', ':(': 'negative_emoticon', ':((': 'negative_emoticon', '8)': 'neutral_emoticon'}"
   ]
  },
  {
   "cell_type": "code",
   "execution_count": 30,
   "metadata": {
    "_uuid": "d6606859968ee012ea23cb5f3f02c1256377b8b6"
   },
   "outputs": [],
   "source": [
    "X_train = _replace_emoticons(X_train, emoticon_list)\n",
    "X_test = _replace_emoticons(X_test, emoticon_list)"
   ]
  },
  {
   "cell_type": "code",
   "execution_count": 31,
   "metadata": {
    "_uuid": "2e7dbd3f837739cc8ac8ee86917f5f24cc67cd96"
   },
   "outputs": [
    {
     "name": "stdout",
     "output_type": "stream",
     "text": [
      " A pessoa certa para isso seria o vale e azevedo positive_emoticon\n",
      " Para mim, é precisamente o contrário positive_emoticon Vem a chuva e vem a boa disposição positive_emoticon\n",
      "Vou fazer um video hoje... estou pensando em falar um pouco sobre o novo meta do CSGO e sobre a pagina   Alguem tem uma sugestao? Queria falar sobre algo do cenario nacional positive_emoticon\n",
      "aaaaaaaa amei tanto essas polaroids, nem sei expressar o quanto eu to apaixonada de vdd✨💖🎈🎉🎊 espero que outras pessoas consigam ganhar também positive_emoticon  \n",
      "Valoriza o coração do menininho que vc tem. Ele é diferente. O faça sorrir e ter certeza disso ❤️ — Eu valorizo todo mundo na minha vida, não vai ser diferente com ele positive_emoticon  \n"
     ]
    }
   ],
   "source": [
    "# check data\n",
    "for i in range(0, 5):\n",
    "    print(X_train[i])"
   ]
  },
  {
   "cell_type": "markdown",
   "metadata": {
    "_uuid": "b967c8949c0640ec9f4a6090366ab970a30947f3"
   },
   "source": [
    "<h5 style=\"color:red;\">Note: We can remove or replace with tags some noisy words or special characters like ✨💖🎈🎉🎊❤️, but we need to evaluate if they are important to express some sentiment</h5>"
   ]
  },
  {
   "cell_type": "markdown",
   "metadata": {
    "_uuid": "4284b6e6bdbe2878aeefb50651b9b219b3acffd1"
   },
   "source": [
    "<h4>Tokenize text with nltk</h4>"
   ]
  },
  {
   "cell_type": "code",
   "execution_count": 32,
   "metadata": {
    "_uuid": "2d77a5e4f41cdbf15c1dd0d5e0d93a72bd41c29e"
   },
   "outputs": [],
   "source": [
    "def _tokenize_text(data):\n",
    "    ls = []\n",
    "\n",
    "    for line in data:\n",
    "        tokens = wordpunct_tokenize(line)\n",
    "        ls.append(tokens)\n",
    "\n",
    "    return ls"
   ]
  },
  {
   "cell_type": "code",
   "execution_count": 33,
   "metadata": {
    "_uuid": "095fa1e33c81a1bbc728db503ac7832071e99422"
   },
   "outputs": [],
   "source": [
    "X_train_tokens = _tokenize_text(X_train)\n",
    "X_test_tokens = _tokenize_text(X_test)"
   ]
  },
  {
   "cell_type": "code",
   "execution_count": 34,
   "metadata": {
    "_uuid": "7f03a8c02502d8e7da6fc9ad7767aca9dbe95a9a"
   },
   "outputs": [
    {
     "name": "stdout",
     "output_type": "stream",
     "text": [
      "['A', 'pessoa', 'certa', 'para', 'isso', 'seria', 'o', 'vale', 'e', 'azevedo', 'positive_emoticon']\n",
      "['Para', 'mim', ',', 'é', 'precisamente', 'o', 'contrário', 'positive_emoticon', 'Vem', 'a', 'chuva', 'e', 'vem', 'a', 'boa', 'disposição', 'positive_emoticon']\n",
      "['Vou', 'fazer', 'um', 'video', 'hoje', '...', 'estou', 'pensando', 'em', 'falar', 'um', 'pouco', 'sobre', 'o', 'novo', 'meta', 'do', 'CSGO', 'e', 'sobre', 'a', 'pagina', 'Alguem', 'tem', 'uma', 'sugestao', '?', 'Queria', 'falar', 'sobre', 'algo', 'do', 'cenario', 'nacional', 'positive_emoticon']\n",
      "['aaaaaaaa', 'amei', 'tanto', 'essas', 'polaroids', ',', 'nem', 'sei', 'expressar', 'o', 'quanto', 'eu', 'to', 'apaixonada', 'de', 'vdd', '✨💖🎈🎉🎊', 'espero', 'que', 'outras', 'pessoas', 'consigam', 'ganhar', 'também', 'positive_emoticon']\n",
      "['Valoriza', 'o', 'coração', 'do', 'menininho', 'que', 'vc', 'tem', '.', 'Ele', 'é', 'diferente', '.', 'O', 'faça', 'sorrir', 'e', 'ter', 'certeza', 'disso', '❤️', '—', 'Eu', 'valorizo', 'todo', 'mundo', 'na', 'minha', 'vida', ',', 'não', 'vai', 'ser', 'diferente', 'com', 'ele', 'positive_emoticon']\n"
     ]
    }
   ],
   "source": [
    "# check data\n",
    "for i in range(0, 5):\n",
    "    print(X_train_tokens[i])"
   ]
  },
  {
   "cell_type": "markdown",
   "metadata": {
    "_uuid": "01759032a73a4e34ae6d07a0888aa30837fdad29"
   },
   "source": [
    "<h4>Object Standardization</h4>"
   ]
  },
  {
   "cell_type": "code",
   "execution_count": 35,
   "metadata": {
    "_uuid": "ad31d2a779d4c121e6eb61429775241d91a7b7ef"
   },
   "outputs": [],
   "source": [
    "def _apply_standardization(tokens, std_list):\n",
    "    ls = []\n",
    "\n",
    "    for tk_line in tokens:\n",
    "        new_tokens = []\n",
    "        \n",
    "        for word in tk_line:\n",
    "            if word.lower() in std_list:\n",
    "                word = std_list[word.lower()]\n",
    "                \n",
    "            new_tokens.append(word) \n",
    "            \n",
    "        ls.append(new_tokens)\n",
    "\n",
    "    return ls"
   ]
  },
  {
   "cell_type": "code",
   "execution_count": 36,
   "metadata": {
    "_uuid": "bbb9fd394e34e02d691335dd99d1c9496facaff0"
   },
   "outputs": [],
   "source": [
    "# create your own list\n",
    "std_list = {'eh': 'é', 'vc': 'você', 'vcs': 'vocês','tb': 'também', 'tbm': 'também', 'obg': 'obrigado', 'gnt': 'gente', 'q': 'que', 'n': 'não', 'cmg': 'comigo', 'p': 'para', 'ta': 'está', 'to': 'estou', 'vdd': 'verdade'}"
   ]
  },
  {
   "cell_type": "code",
   "execution_count": 37,
   "metadata": {
    "_uuid": "729abec8b5c9185fe16434ed1b87792c881fd7f4"
   },
   "outputs": [
    {
     "name": "stdout",
     "output_type": "stream",
     "text": [
      "Valoriza o coração do menininho que vc tem. Ele é diferente. O faça sorrir e ter certeza disso ❤️ — Eu valorizo todo mundo na minha vida, não vai ser diferente com ele positive_emoticon    Infelizmente isso acontece cmg tb.. negative_emoticon\n"
     ]
    }
   ],
   "source": [
    "# check data\n",
    "print(X_train[4], X_train[35008])"
   ]
  },
  {
   "cell_type": "code",
   "execution_count": 38,
   "metadata": {
    "_uuid": "26add53a456dfd06a7fdfa6aed5739d53ac2c5f6"
   },
   "outputs": [],
   "source": [
    "X_train_tokens = _apply_standardization(X_train_tokens, std_list)\n",
    "X_test_tokens = _apply_standardization(X_test_tokens, std_list)"
   ]
  },
  {
   "cell_type": "code",
   "execution_count": 39,
   "metadata": {
    "_uuid": "8c17dd517c02f34abeb8f9808695da38bed22ae0"
   },
   "outputs": [
    {
     "name": "stdout",
     "output_type": "stream",
     "text": [
      "['Valoriza', 'o', 'coração', 'do', 'menininho', 'que', 'você', 'tem', '.', 'Ele', 'é', 'diferente', '.', 'O', 'faça', 'sorrir', 'e', 'ter', 'certeza', 'disso', '❤️', '—', 'Eu', 'valorizo', 'todo', 'mundo', 'na', 'minha', 'vida', ',', 'não', 'vai', 'ser', 'diferente', 'com', 'ele', 'positive_emoticon'] ['Infelizmente', 'isso', 'acontece', 'comigo', 'também', '..', 'negative_emoticon']\n"
     ]
    }
   ],
   "source": [
    "# check data\n",
    "print(X_train_tokens[4], X_train_tokens[35008])"
   ]
  },
  {
   "cell_type": "code",
   "execution_count": 40,
   "metadata": {
    "_uuid": "fda260a214bfa7d93f0d69c18df7b64abaa35489"
   },
   "outputs": [
    {
     "name": "stdout",
     "output_type": "stream",
     "text": [
      "[['Nossa', '!', 'Muito', 'obrigada', 'positive_emoticon'], ['vai', 'pa', 'puta', 'que', 'te', 'pariu', 'positive_emoticon'], ['QUER', 'MAIS', 'DESCONTOS', '?', '(', '14', '/', '0neutral_emoticon', '⭐⭐⭐⭐⭐', '🌐', 'Confira', 'no', 'link', '➔', '|', '»', 'Compartilhe', '!', '«', 'Não', 'encontrou', 'a', 'oferta', 'ou', 'cupom', 'que', 'procurava', '?', 'Não', 'se', 'preocupe', ';)', 'criamos', 'uma', 'pagina', 'com', 'mais', 'ofertas', 'e', 'cupons', 'atualizada', 'diariamente', 'positive_emoticon'], ['EU', 'VOU', 'PEGAR', 'vocês', ',', 'ME', 'AJUDEM', 'GALERA', ',', 'PELO', 'AMOR', 'DE', 'BUTERA', '.', 'positive_emoticon'], ['Estávamos', 'em', 'casa', 'do', 'Zé', 'e', 'eu', 'estava', 'a', 'morrer', 'de', 'sono', ',', 'chego', 'a', 'casa', 'e', 'fico', 'sem', 'sono', 'positive_emoticon', '))']]\n"
     ]
    }
   ],
   "source": [
    "print(X_test_tokens[0:5])"
   ]
  },
  {
   "cell_type": "markdown",
   "metadata": {
    "_uuid": "7cade7774b181e67a77f56ccff60b68b30a9e05e"
   },
   "source": [
    "<h4>Remove stopwords (noise removal and dimensionality reduction)</h4>"
   ]
  },
  {
   "cell_type": "markdown",
   "metadata": {
    "_uuid": "191fcf8d3066ef422390224111c93b4a309d2907"
   },
   "source": [
    "Remove stopwords"
   ]
  },
  {
   "cell_type": "code",
   "execution_count": 41,
   "metadata": {
    "_uuid": "93209116226f6edf24a07b0972dfa0801ee84333"
   },
   "outputs": [],
   "source": [
    "def _remove_stopwords(tokens, stopword_list):\n",
    "    ls = []\n",
    "\n",
    "    for tk_line in tokens:\n",
    "        new_tokens = []\n",
    "        \n",
    "        for word in tk_line:\n",
    "            if word.lower() not in stopword_list:\n",
    "                new_tokens.append(word) \n",
    "            \n",
    "        ls.append(new_tokens)\n",
    "        \n",
    "    return ls"
   ]
  },
  {
   "cell_type": "code",
   "execution_count": 42,
   "metadata": {
    "_uuid": "d42c58078128e5de8a83c2bb158c8e484ecd8201"
   },
   "outputs": [],
   "source": [
    "stopword_list = []"
   ]
  },
  {
   "cell_type": "code",
   "execution_count": 43,
   "metadata": {
    "_uuid": "868d2bb4061ce7034a82d0e502237f435fbcb7fc"
   },
   "outputs": [],
   "source": [
    "# get nltk portuguese stopwords\n",
    "nltk_stopwords = nltk.corpus.stopwords.words('portuguese')"
   ]
  },
  {
   "cell_type": "code",
   "execution_count": 44,
   "metadata": {
    "_uuid": "454f789d7db906bb6afcc151c0f53a84f2523f46"
   },
   "outputs": [],
   "source": [
    "# You can also add stopwords manually instead of loading from the database. Generally, we add stopwords that belong to this context.\n",
    "stopword_list.append('é')\n",
    "stopword_list.append('vou')\n",
    "stopword_list.append('que')\n",
    "stopword_list.append('tão')\n",
    "stopword_list.append('...')\n",
    "stopword_list.append('«')\n",
    "stopword_list.append('➔')\n",
    "stopword_list.append('|')\n",
    "stopword_list.append('»')\n",
    "stopword_list.append('uai') # 'expression from the mineiros (MG/Brazil)'"
   ]
  },
  {
   "cell_type": "markdown",
   "metadata": {
    "_uuid": "5c85d05f946199f85151af31bf1c2009bf093d5c"
   },
   "source": [
    "<h5 style=\"color:red;\">Note: Numbers, some punctuations (.,;:) and special characters such as (_- = &%) are not relevant to express some sentiment, they can be considered noisy words. You can treat them here.</h5>\n",
    "<h5 style=\"color:red;\">noisy_words = ['.', '?', '!', ':', ',', ';', '(', ')', '-']</h5>\n",
    "<h5 style=\"color:red;\">Note: ? and ! can be important to express sentiment.</h5>"
   ]
  },
  {
   "cell_type": "code",
   "execution_count": 45,
   "metadata": {
    "_uuid": "1e4a2258684531e15ed3d48d84bdc710cba5a133"
   },
   "outputs": [],
   "source": [
    "# join all stopwords\n",
    "stopword_list.extend(nltk_stopwords)\n"
   ]
  },
  {
   "cell_type": "code",
   "execution_count": 46,
   "metadata": {
    "_uuid": "7a34c75cbec835334fdf530d1a857039c24392e4"
   },
   "outputs": [],
   "source": [
    "# remove duplicate stopwords (unique list)\n",
    "stopword_list = list(set(stopword_list))"
   ]
  },
  {
   "cell_type": "code",
   "execution_count": 47,
   "metadata": {
    "_uuid": "25748a09312e1241038aae27f4ce0d962fc30c26"
   },
   "outputs": [],
   "source": [
    "X_train_tokens = _remove_stopwords(X_train_tokens, stopword_list)\n",
    "X_test_tokens = _remove_stopwords(X_test_tokens, stopword_list)"
   ]
  },
  {
   "cell_type": "code",
   "execution_count": 48,
   "metadata": {
    "_uuid": "5254a491c2acc0a70c4f8705ddb31ee7e245624e"
   },
   "outputs": [
    {
     "name": "stdout",
     "output_type": "stream",
     "text": [
      "['pessoa', 'certa', 'vale', 'azevedo', 'positive_emoticon']\n",
      "['mim', ',', 'precisamente', 'contrário', 'positive_emoticon', 'Vem', 'chuva', 'vem', 'boa', 'disposição', 'positive_emoticon']\n",
      "['fazer', 'video', 'hoje', 'pensando', 'falar', 'pouco', 'sobre', 'novo', 'meta', 'CSGO', 'sobre', 'pagina', 'Alguem', 'sugestao', '?', 'Queria', 'falar', 'sobre', 'algo', 'cenario', 'nacional', 'positive_emoticon']\n",
      "['aaaaaaaa', 'amei', 'tanto', 'polaroids', ',', 'sei', 'expressar', 'quanto', 'apaixonada', 'verdade', '✨💖🎈🎉🎊', 'espero', 'outras', 'pessoas', 'consigam', 'ganhar', 'positive_emoticon']\n",
      "['Valoriza', 'coração', 'menininho', '.', 'diferente', '.', 'faça', 'sorrir', 'ter', 'certeza', 'disso', '❤️', '—', 'valorizo', 'todo', 'mundo', 'vida', ',', 'vai', 'ser', 'diferente', 'positive_emoticon']\n"
     ]
    }
   ],
   "source": [
    "# check data\n",
    "for i in range(0, 5):\n",
    "    print(X_train_tokens[i])"
   ]
  },
  {
   "cell_type": "markdown",
   "metadata": {
    "_uuid": "5917183f41e842477fb49520beb8568a368f7046"
   },
   "source": [
    "<h4>Lexicon Normalization</h4>"
   ]
  },
  {
   "cell_type": "markdown",
   "metadata": {
    "_uuid": "3f3f8826d74fb5fd28d6ff1f76ffb1101e96cc43"
   },
   "source": [
    "Lemmatization (not implemented...)"
   ]
  },
  {
   "cell_type": "markdown",
   "metadata": {
    "_uuid": "b69051f6e85ce27a64fa49a968019d8a7957f377"
   },
   "source": [
    "Stemming (dimensionality reduction)"
   ]
  },
  {
   "cell_type": "code",
   "execution_count": 49,
   "metadata": {
    "_uuid": "75df6b7d0b3af4219321089b6161e6dc74dc1dbf"
   },
   "outputs": [],
   "source": [
    "def _apply_stemmer(tokens):\n",
    "    ls = []\n",
    "    stemmer = nltk.stem.RSLPStemmer()\n",
    "\n",
    "    for tk_line in tokens:\n",
    "        new_tokens = []\n",
    "        \n",
    "        for word in tk_line:\n",
    "            word = str(stemmer.stem(word))\n",
    "            new_tokens.append(word) \n",
    "            \n",
    "        ls.append(new_tokens)\n",
    "        \n",
    "    return ls"
   ]
  },
  {
   "cell_type": "code",
   "execution_count": 50,
   "metadata": {
    "_uuid": "7c3907b1ff4e1495ce16d0d6e5190277dd8faad5"
   },
   "outputs": [],
   "source": [
    "X_train_tokens = _apply_stemmer(X_train_tokens)\n",
    "X_test_tokens = _apply_stemmer(X_test_tokens)"
   ]
  },
  {
   "cell_type": "code",
   "execution_count": 51,
   "metadata": {
    "_uuid": "45cdcc98a8462e4ec5132b192a762affc4399904"
   },
   "outputs": [
    {
     "name": "stdout",
     "output_type": "stream",
     "text": [
      "['pesso', 'cert', 'val', 'azeved', 'positive_emoticon']\n",
      "['mim', ',', 'precis', 'contr', 'positive_emoticon', 'vem', 'chuv', 'vem', 'boa', 'dispos', 'positive_emoticon']\n",
      "['faz', 'vide', 'hoj', 'pens', 'fal', 'pouc', 'sobr', 'nov', 'met', 'csg', 'sobr', 'pagin', 'algu', 'sugesta', '?', 'quer', 'fal', 'sobr', 'alg', 'cenari', 'nacion', 'positive_emoticon']\n",
      "['aaaaaaa', 'ame', 'tant', 'polaroid', ',', 'sei', 'express', 'quant', 'apaixon', 'verdad', '✨💖🎈🎉🎊', 'esper', 'outr', 'pesso', 'consig', 'ganh', 'positive_emoticon']\n",
      "['valoriz', 'coraçã', 'menin', '.', 'difer', '.', 'faç', 'sorr', 'ter', 'cert', 'diss', '❤️', '—', 'valoriz', 'tod', 'mund', 'vid', ',', 'vai', 'ser', 'difer', 'positive_emoticon']\n"
     ]
    }
   ],
   "source": [
    "# check data\n",
    "for i in range(0, 5):\n",
    "    print(X_train_tokens[i])"
   ]
  },
  {
   "cell_type": "markdown",
   "metadata": {
    "_uuid": "97ed938a224215a54ea6a5bb7d0afc342ac4edd8"
   },
   "source": [
    "<h2>Exploratory analysis in words</h2>"
   ]
  },
  {
   "cell_type": "markdown",
   "metadata": {
    "_uuid": "144e9a030488009051470113085427f8c031c870"
   },
   "source": [
    "<h4>Word Cloud</h4>"
   ]
  },
  {
   "cell_type": "code",
   "execution_count": 52,
   "metadata": {
    "_uuid": "662908417a2138b1018b4a00152a1a5c5d5d9d3f"
   },
   "outputs": [],
   "source": [
    "def _get_text_cloud(tokens):\n",
    "    text = ''\n",
    "\n",
    "    for tk_line in tokens:\n",
    "        new_tokens = []\n",
    "        \n",
    "        for word in tk_line:\n",
    "            text += word + ' '\n",
    "        \n",
    "    return text"
   ]
  },
  {
   "cell_type": "code",
   "execution_count": 53,
   "metadata": {
    "_uuid": "9e1d77fbb680343b982f59ca66bfce2286d59751"
   },
   "outputs": [
    {
     "data": {
      "image/png": "[encoded data removed]",
      "text/plain": [
       "<Figure size 1152x648 with 1 Axes>"
      ]
     },
     "metadata": {
      "needs_background": "light"
     },
     "output_type": "display_data"
    }
   ],
   "source": [
    "# print train WordCloud\n",
    "sample_train = random.sample(X_train_tokens, 10000)\n",
    "text_cloud = _get_text_cloud(sample_train)\n",
    "\n",
    "word_cloud = WordCloud(max_font_size = 100, width = 1520, height = 535)\n",
    "word_cloud.generate(text_cloud)\n",
    "plt.figure(figsize = (16, 9))\n",
    "plt.imshow(word_cloud)\n",
    "plt.axis('off')\n",
    "plt.show()"
   ]
  },
  {
   "cell_type": "code",
   "execution_count": 54,
   "metadata": {
    "_uuid": "1974658634b38a2aaea930d2d787edb41da8fbf7"
   },
   "outputs": [
    {
     "data": {
      "image/png": "[encoded data removed]",
      "text/plain": [
       "<Figure size 1152x648 with 1 Axes>"
      ]
     },
     "metadata": {
      "needs_background": "light"
     },
     "output_type": "display_data"
    }
   ],
   "source": [
    "# print test WordCloud\n",
    "sample_test = random.sample(X_test_tokens, len(X_test_tokens))\n",
    "text_cloud = _get_text_cloud(sample_test)\n",
    "\n",
    "word_cloud = WordCloud(max_font_size = 100, width = 1520, height = 535)\n",
    "word_cloud.generate(text_cloud)\n",
    "plt.figure(figsize = (16, 9))\n",
    "plt.imshow(word_cloud)\n",
    "plt.axis('off')\n",
    "plt.show()"
   ]
  },
  {
   "cell_type": "markdown",
   "metadata": {
    "_uuid": "c3cc605b3b940ef6a20b66cc9435c2c7d1fb14ec"
   },
   "source": [
    "<h4>Frequency Distribution</h4>"
   ]
  },
  {
   "cell_type": "code",
   "execution_count": 55,
   "metadata": {
    "_uuid": "e4a39934c284e7da185d55d4f5d2616cd2c4abea"
   },
   "outputs": [],
   "source": [
    "def _get_freq_dist_list(tokens):\n",
    "    ls = []\n",
    "\n",
    "    for tk_line in tokens:\n",
    "        for word in tk_line:\n",
    "            ls.append(word)\n",
    "\n",
    "    return ls"
   ]
  },
  {
   "cell_type": "code",
   "execution_count": 56,
   "metadata": {
    "_uuid": "fb4389ec2537ff43861231e51ceb85ff528b7fe6"
   },
   "outputs": [
    {
     "name": "stdout",
     "output_type": "stream",
     "text": [
      "<FreqDist with 36926 samples and 991981 outcomes>\n"
     ]
    }
   ],
   "source": [
    "# Frequency Distribution on training dataset\n",
    "fd_list = _get_freq_dist_list(X_train_tokens)\n",
    "fdist = FreqDist(fd_list)\n",
    "print(fdist)"
   ]
  },
  {
   "cell_type": "code",
   "execution_count": 57,
   "metadata": {
    "_uuid": "654a194464453c61039289e669867584b5181bf5"
   },
   "outputs": [
    {
     "name": "stdout",
     "output_type": "stream",
     "text": [
      "[(',', 46143), ('negative_emoticon', 33232), ('positive_emoticon', 31038), ('.', 22999), (':', 10575), ('-', 10302), ('!', 8718), ('pra', 7604), ('?', 6638), ('quer', 5631), ('(', 5150), ('dia', 5121), ('faz', 4503), (\"'\", 4422), (';', 4336), ('vai', 4228), ('\"', 3926), ('diz', 3853), ('tod', 3809), ('fic', 3689), ('ser', 3586), ('bolsonar', 3442), ('pod', 3398), ('&', 3249), ('fal', 3207)]\n"
     ]
    }
   ],
   "source": [
    "# most common words\n",
    "most_common = fdist.most_common(25)\n",
    "print(most_common)"
   ]
  },
  {
   "cell_type": "markdown",
   "metadata": {
    "_uuid": "800ecdd3354f86ce9b3e86083608692608c25331"
   },
   "source": [
    "<h5 style=\"color:red;\">Note: Observe that I have not manually added stopwords [, . : - ( ' ; \" &] previously in \"stopword_list\" on purpose,  so to see its efects in this session.</h5>"
   ]
  },
  {
   "cell_type": "code",
   "execution_count": 58,
   "metadata": {
    "_uuid": "e01fb694191630ade5b9846d205453c2bee5efe8"
   },
   "outputs": [
    {
     "name": "stdout",
     "output_type": "stream",
     "text": [
      "['sugesta', '✨💖🎈🎉🎊', 'ksoaksosk', 'centope', 'carril', 'fotogên', 'monlevad', 'feriad', ':’’)', 'naisuuu', 'eheheheheheh', 'apalp', 'paragraf', 'taxímetr', 'biray', 'ezîz', 'silavên', 'bikim', 'yasmyn', 'cabelooo', 'hextec', 'gontij', 'podiaa', 'piorrr', 'ngb', 'tác', 'armad', 'goe', 'dechav', 'αmig']\n"
     ]
    }
   ],
   "source": [
    "# most uncommon words (words that appear once)\n",
    "most_uncommon = fdist.hapaxes()\n",
    "print(most_uncommon[0:30])"
   ]
  },
  {
   "cell_type": "code",
   "execution_count": 59,
   "metadata": {
    "_uuid": "26f8d97cdc242f4f846c680eb8146965a1e81634"
   },
   "outputs": [
    {
     "data": {
      "text/plain": [
       "','"
      ]
     },
     "execution_count": 59,
     "metadata": {},
     "output_type": "execute_result"
    }
   ],
   "source": [
    "# find the word occuring max number of times\n",
    "fdist.max()"
   ]
  },
  {
   "cell_type": "code",
   "execution_count": 60,
   "metadata": {
    "_uuid": "daad60c681ba9051cce9368eb7a2d1bff4551c4b"
   },
   "outputs": [
    {
     "data": {
      "image/png": "[encoded data removed]",
      "text/plain": [
       "<Figure size 432x288 with 1 Axes>"
      ]
     },
     "metadata": {
      "needs_background": "light"
     },
     "output_type": "display_data"
    }
   ],
   "source": [
    "# print most common words\n",
    "most_common = fdist.most_common(25)\n",
    "series = pd.Series(data=[v for k, v in most_common], index=[k for k, v in most_common], name='')\n",
    "ax = series.plot(kind='bar', title='Frequency Distribution')\n",
    "ax.set_xlabel('Word')\n",
    "ax.set_ylabel('Count')\n",
    "plt.show()"
   ]
  },
  {
   "cell_type": "markdown",
   "metadata": {
    "_uuid": "ec37e7f47e47eb6b44868915f2742f5d6123878f"
   },
   "source": [
    "Checking how many times word 'brasil' appeared"
   ]
  },
  {
   "cell_type": "code",
   "execution_count": 61,
   "metadata": {
    "_uuid": "7657d1b9b7dc73806514e4d513735aaacded292e"
   },
   "outputs": [
    {
     "data": {
      "text/plain": [
       "2453"
      ]
     },
     "execution_count": 61,
     "metadata": {},
     "output_type": "execute_result"
    }
   ],
   "source": [
    "# number of times\n",
    "fdist.get('brasil')"
   ]
  },
  {
   "cell_type": "code",
   "execution_count": 62,
   "metadata": {
    "_uuid": "374630297459553acf3be098971fc7d322c60fc8"
   },
   "outputs": [
    {
     "data": {
      "text/plain": [
       "0.0024728296207286228"
      ]
     },
     "execution_count": 62,
     "metadata": {},
     "output_type": "execute_result"
    }
   ],
   "source": [
    "# Freq = Number of occurences / total number of words\n",
    "fdist.freq('brasil') # 2453 / 984823"
   ]
  },
  {
   "cell_type": "markdown",
   "metadata": {
    "_uuid": "2b011cd740276e0d87dd146aed6abee0f6559183"
   },
   "source": [
    "<h2>Bag-of-Words</h2>\n",
    "The bag-of-words model is one of the feature extraction algorithms for text."
   ]
  },
  {
   "cell_type": "markdown",
   "metadata": {
    "_uuid": "689723a6b68a74cfa2fa19f274e842011473d770"
   },
   "source": [
    "<h4>Dataset preparation</h4>\n",
    "Untokenize text (transform tokenized text into string list)"
   ]
  },
  {
   "cell_type": "code",
   "execution_count": 63,
   "metadata": {
    "_uuid": "bfe4d9dca0e03d751fa5b086003e07bc7ff945da"
   },
   "outputs": [],
   "source": [
    "def _untokenize_text(tokens):\n",
    "    ls = []\n",
    "\n",
    "    for tk_line in tokens:\n",
    "        new_line = ''\n",
    "        \n",
    "        for word in tk_line:\n",
    "            new_line += word + ' '\n",
    "            \n",
    "        ls.append(new_line)\n",
    "        \n",
    "    return ls"
   ]
  },
  {
   "cell_type": "code",
   "execution_count": 64,
   "metadata": {
    "_uuid": "126cdaadb79c0c3141803e68615c093ec21872ea"
   },
   "outputs": [],
   "source": [
    "X_train = _untokenize_text(X_train_tokens)\n",
    "X_test = _untokenize_text(X_test_tokens)"
   ]
  },
  {
   "cell_type": "code",
   "execution_count": 65,
   "metadata": {
    "_uuid": "81b7797ea3848e78316c871fd0a630dcf69d82b0"
   },
   "outputs": [
    {
     "name": "stdout",
     "output_type": "stream",
     "text": [
      "pesso cert val azeved positive_emoticon \n",
      "mim , precis contr positive_emoticon vem chuv vem boa dispos positive_emoticon \n",
      "faz vide hoj pens fal pouc sobr nov met csg sobr pagin algu sugesta ? quer fal sobr alg cenari nacion positive_emoticon \n",
      "aaaaaaa ame tant polaroid , sei express quant apaixon verdad ✨💖🎈🎉🎊 esper outr pesso consig ganh positive_emoticon \n",
      "valoriz coraçã menin . difer . faç sorr ter cert diss ❤️ — valoriz tod mund vid , vai ser difer positive_emoticon \n"
     ]
    }
   ],
   "source": [
    "# check data\n",
    "for i in range(0, 5):\n",
    "    print(X_train[i])"
   ]
  },
  {
   "cell_type": "markdown",
   "metadata": {
    "_uuid": "5769c9a8b9f6d48088cb65196d2191499e72efbe"
   },
   "source": [
    "<h4>Text to Features</h4>\n",
    "Feature extraction from text\n",
    "<br/>\n",
    "Method: bag of words "
   ]
  },
  {
   "cell_type": "code",
   "execution_count": 66,
   "metadata": {
    "_uuid": "88af397f397227d202a9bb8a9fbb5c33c87c703c"
   },
   "outputs": [],
   "source": [
    "# create a count vectorizer object\n",
    "vectorizer = CountVectorizer()\n",
    "X_train_vect = vectorizer.fit_transform(X_train)"
   ]
  },
  {
   "cell_type": "code",
   "execution_count": 67,
   "metadata": {
    "_uuid": "80b66a24fc4283ce45f2680ec8591fea4ae0e1ad"
   },
   "outputs": [
    {
     "name": "stdout",
     "output_type": "stream",
     "text": [
      "(100000, 33647)\n"
     ]
    }
   ],
   "source": [
    "print(X_train_vect.shape)"
   ]
  },
  {
   "cell_type": "code",
   "execution_count": 68,
   "metadata": {
    "_uuid": "b20a3b1f590037089198338a5daf7c56390962eb"
   },
   "outputs": [
    {
     "name": "stdout",
     "output_type": "stream",
     "text": [
      "6993\n"
     ]
    }
   ],
   "source": [
    "print(vectorizer.vocabulary_.get(u'brasil'))"
   ]
  },
  {
   "cell_type": "markdown",
   "metadata": {
    "_uuid": "9917f5c3b76bfb2ebfe393646475d66b3684f816"
   },
   "source": [
    "<h4>TF-IDF: Term Frequency - Inverse Document Frequency</h4>\n",
    "use the transform(...) method to transform count-matrix to a tf-idf representation."
   ]
  },
  {
   "cell_type": "code",
   "execution_count": 69,
   "metadata": {
    "_uuid": "1880c3630a250f5945ca5f9582066e1aeb869c80"
   },
   "outputs": [],
   "source": [
    "tfidf_transformer = TfidfTransformer()\n",
    "X_train_tfidf = tfidf_transformer.fit_transform(X_train_vect)"
   ]
  },
  {
   "cell_type": "code",
   "execution_count": 70,
   "metadata": {
    "_uuid": "ad83cb09e3a9d095533b4f4251f7fdeb0de61268"
   },
   "outputs": [
    {
     "name": "stdout",
     "output_type": "stream",
     "text": [
      "(100000, 33647)\n"
     ]
    }
   ],
   "source": [
    "print(X_train_tfidf.shape)"
   ]
  },
  {
   "cell_type": "markdown",
   "metadata": {
    "_uuid": "9fa610f2e54003723eeaf356e0af01ba72155386"
   },
   "source": [
    "<h2>Prepare algorithm and run model</h2>"
   ]
  },
  {
   "cell_type": "markdown",
   "metadata": {
    "_uuid": "399db7d0ac50765837136410684e3b2b5779057b"
   },
   "source": [
    "<h4>Training a classifier - MultinomialNB</h4>"
   ]
  },
  {
   "cell_type": "code",
   "execution_count": 71,
   "metadata": {
    "_uuid": "ebb2fc954efac5c054367f9df6fea5afc27a4fad"
   },
   "outputs": [
    {
     "data": {
      "text/plain": [
       "MultinomialNB(alpha=1.0, class_prior=None, fit_prior=True)"
      ]
     },
     "execution_count": 71,
     "metadata": {},
     "output_type": "execute_result"
    }
   ],
   "source": [
    "model = MultinomialNB()\n",
    "model.fit(X_train_tfidf, y_train)"
   ]
  },
  {
   "cell_type": "markdown",
   "metadata": {
    "_uuid": "ca8dbb85fac5b981044f2cafde390561010315ba"
   },
   "source": [
    "<h2>Standalone predictions</h2>"
   ]
  },
  {
   "cell_type": "markdown",
   "metadata": {
    "_uuid": "db4629892a4ffd7f00f0f2402c612e96644c56fc"
   },
   "source": [
    "<h4>New documents to predict</h4>"
   ]
  },
  {
   "cell_type": "code",
   "execution_count": 72,
   "metadata": {
    "_uuid": "90124f5c3301c030850c0b17a9630c3bc13d0fd6"
   },
   "outputs": [],
   "source": [
    "new_corpus = [\n",
    "        '@acme A alegria está na luta, na tentativa, no sofrimento envolvido e não na vitória propriamente dita!', \n",
    "        'A alegria evita mil males e prolonga a vida.',\n",
    "        'não se deve maltratar os idosos, eles possuem muita sabedoria!',\n",
    "        '#filmedevampiro tome muito cuidado com o dracula... :( www.filmedevampiro.com.br'\n",
    "        ]"
   ]
  },
  {
   "cell_type": "markdown",
   "metadata": {
    "_uuid": "a4abcb3f04d0fffda659d312c69f94529b6fe655"
   },
   "source": [
    "<h4>Preprocessing new corpus</h4>"
   ]
  },
  {
   "cell_type": "code",
   "execution_count": 73,
   "metadata": {
    "_uuid": "4cae1db1c669a02af46f7367a6631281fb2f2521"
   },
   "outputs": [],
   "source": [
    "X_new = new_corpus"
   ]
  },
  {
   "cell_type": "code",
   "execution_count": 74,
   "metadata": {
    "_uuid": "840a6c666dd32b9d427da9e12c99d5a2ef367b1c"
   },
   "outputs": [],
   "source": [
    "# Remove urls from text (http(s), www)\n",
    "X_new = _remove_url(X_new)"
   ]
  },
  {
   "cell_type": "code",
   "execution_count": 75,
   "metadata": {
    "_uuid": "0282b8c617e12fc2b998184a7a2aa83e67566bf9"
   },
   "outputs": [],
   "source": [
    "# Remove hashtags\n",
    "regex_pattern = '#[\\w]*'\n",
    "X_new = _remove_regex(X_new, regex_pattern)"
   ]
  },
  {
   "cell_type": "code",
   "execution_count": 76,
   "metadata": {
    "_uuid": "60e0fb449582569520afcc98c0813f5f0cf529f6"
   },
   "outputs": [],
   "source": [
    "# Remove notations\n",
    "regex_pattern = '@[\\w]*'\n",
    "X_new = _remove_regex(X_new, regex_pattern)"
   ]
  },
  {
   "cell_type": "code",
   "execution_count": 77,
   "metadata": {
    "_uuid": "2c8dd2a73502e696defb2afdf7ee767b1a403909"
   },
   "outputs": [],
   "source": [
    "# Replace emoticons \":)) :) :D :(\" to positive_emoticon or negative_emoticon or neutral_emoticon\n",
    "X_new = _replace_emoticons(X_new, emoticon_list)"
   ]
  },
  {
   "cell_type": "code",
   "execution_count": 78,
   "metadata": {
    "_uuid": "e8ef54f3596ee559cf134dd7d327f7f26694db4f"
   },
   "outputs": [],
   "source": [
    "# Tokenize text\n",
    "X_new_tokens = _tokenize_text(X_new)"
   ]
  },
  {
   "cell_type": "code",
   "execution_count": 79,
   "metadata": {
    "_uuid": "662c579701028243c66bc8c45a146c2ff2dac4c0"
   },
   "outputs": [],
   "source": [
    "# Object Standardization\n",
    "X_new_tokens = _apply_standardization(X_new_tokens, std_list)"
   ]
  },
  {
   "cell_type": "code",
   "execution_count": 80,
   "metadata": {
    "_uuid": "19ede87e91203a83aca30cf6915a358735d8fe67"
   },
   "outputs": [],
   "source": [
    "# remove stopwords\n",
    "X_new_tokens = _remove_stopwords(X_new_tokens, stopword_list)"
   ]
  },
  {
   "cell_type": "markdown",
   "metadata": {
    "_uuid": "62549181f3ffac647a32f137c405f4537ebc94ec"
   },
   "source": [
    "<h4>Lexicon Normalization</h4>"
   ]
  },
  {
   "cell_type": "code",
   "execution_count": 81,
   "metadata": {
    "_uuid": "0349044382a53b3e210fc24e612430ce52663418"
   },
   "outputs": [],
   "source": [
    "# Lemmatization (not implemented...)"
   ]
  },
  {
   "cell_type": "code",
   "execution_count": 82,
   "metadata": {
    "_uuid": "865a8b5c1061bcc6745b0d0bb6e54b8c51a0db74"
   },
   "outputs": [],
   "source": [
    "# Stemming (dimensionality reduction)\n",
    "X_new_tokens = _apply_stemmer(X_new_tokens)"
   ]
  },
  {
   "cell_type": "markdown",
   "metadata": {
    "_uuid": "756392fd67ce48e26d326e6b258bac8e750e5d50"
   },
   "source": [
    "<h4>Bag-of-Words</h4>\n",
    "The bag-of-words model is one of the feature extraction algorithms for text."
   ]
  },
  {
   "cell_type": "code",
   "execution_count": 83,
   "metadata": {
    "_uuid": "725693e34dbccac816e8ab8dcef8f63dbdd84c72"
   },
   "outputs": [],
   "source": [
    "# Dataset preparation\n",
    "# Untokenize text (transform tokenized text into string list)\n",
    "X_new = _untokenize_text(X_new_tokens)"
   ]
  },
  {
   "cell_type": "code",
   "execution_count": 84,
   "metadata": {
    "_uuid": "eb318175637731b3437097816784a72b3695d377"
   },
   "outputs": [],
   "source": [
    "# Text to Features\n",
    "# Feature extraction from text \n",
    "# Method: bag of words\n",
    "X_new_vect = vectorizer.transform(X_new)"
   ]
  },
  {
   "cell_type": "code",
   "execution_count": 85,
   "metadata": {
    "_uuid": "76a07d10d23aa57980d7d8f5e998bbce795ce0d5"
   },
   "outputs": [
    {
     "name": "stdout",
     "output_type": "stream",
     "text": [
      "(4, 33647)\n"
     ]
    }
   ],
   "source": [
    "print(X_new_vect.shape)"
   ]
  },
  {
   "cell_type": "code",
   "execution_count": 86,
   "metadata": {
    "_uuid": "1826b5d8b9621818c3e5a997bfc89d93ef1e95c1"
   },
   "outputs": [
    {
     "name": "stdout",
     "output_type": "stream",
     "text": [
      "17095\n",
      "3929\n"
     ]
    }
   ],
   "source": [
    "print(vectorizer.vocabulary_.get(u'idos'))\n",
    "print(vectorizer.vocabulary_.get(u'alegr'))"
   ]
  },
  {
   "cell_type": "code",
   "execution_count": 87,
   "metadata": {
    "_uuid": "859ada776e81f2dd0445232dcc11350adc99e618"
   },
   "outputs": [],
   "source": [
    "# TF-IDF: Term Frequency - Inverse Document Frequency\n",
    "# use the transform(...) method to transform count-matrix to a tf-idf representation.\n",
    "X_new_tfidf = tfidf_transformer.transform(X_new_vect)"
   ]
  },
  {
   "cell_type": "code",
   "execution_count": 88,
   "metadata": {
    "_uuid": "c42a3b589cfb956fbc1b2ff81a15cb7a4eb3a179"
   },
   "outputs": [
    {
     "name": "stdout",
     "output_type": "stream",
     "text": [
      "(4, 33647)\n"
     ]
    }
   ],
   "source": [
    "print(X_new_tfidf.shape)"
   ]
  },
  {
   "cell_type": "markdown",
   "metadata": {
    "_uuid": "8e3d3d1ecc877ec18c6b813ac901fdda10e2ec57"
   },
   "source": [
    "<h4>Make predictions on new_corpus</h4>"
   ]
  },
  {
   "cell_type": "code",
   "execution_count": 89,
   "metadata": {
    "_uuid": "74f0ca7e61a348e9276c21953787f82901a8560e"
   },
   "outputs": [],
   "source": [
    "standalone_predictions = model.predict(X_new_tfidf)"
   ]
  },
  {
   "cell_type": "code",
   "execution_count": 90,
   "metadata": {
    "_uuid": "353d824e5fc6931a21861ef7740380c4d24ddd6b"
   },
   "outputs": [
    {
     "name": "stdout",
     "output_type": "stream",
     "text": [
      "'@acme A alegria está na luta, na tentativa, no sofrimento envolvido e não na vitória propriamente dita!' => Positive\n",
      "'A alegria evita mil males e prolonga a vida.' => Neutral\n",
      "'não se deve maltratar os idosos, eles possuem muita sabedoria!' => Neutral\n",
      "'#filmedevampiro tome muito cuidado com o dracula... :( www.filmedevampiro.com.br' => Negative\n"
     ]
    }
   ],
   "source": [
    "for doc, prediction in zip(new_corpus, standalone_predictions):\n",
    "    print('%r => %s' % (doc, prediction))"
   ]
  },
  {
   "cell_type": "markdown",
   "metadata": {
    "_uuid": "2721edd4d86e7010245ff65b68a9a0dbe6a0d2fa"
   },
   "source": [
    "<h2>Evaluate the model</h2>"
   ]
  },
  {
   "cell_type": "code",
   "execution_count": 91,
   "metadata": {
    "_uuid": "34b2396d539db30b2b9fdf3117a8c49341e1c361"
   },
   "outputs": [],
   "source": [
    "def _get_accuracy(matrix):\n",
    "    acc = 0\n",
    "    n = 0\n",
    "    total = 0\n",
    "    \n",
    "    for i in range(0, len(matrix)):\n",
    "        for j in range(0, len(matrix)):\n",
    "            if(i == j): \n",
    "                n += matrix[i,j]\n",
    "            \n",
    "            total += matrix[i,j]\n",
    "            \n",
    "    acc = n / total\n",
    "    return acc"
   ]
  },
  {
   "cell_type": "markdown",
   "metadata": {
    "_uuid": "7c288eed8d611edd4f79c9ac6963f0bb0e601c82"
   },
   "source": [
    "<h4>Bag-of-Words</h4>\n",
    "The bag-of-words model is one of the feature extraction algorithms for text."
   ]
  },
  {
   "cell_type": "code",
   "execution_count": 92,
   "metadata": {
    "_uuid": "2c76a6a4f892fd67344999dc98796d6ec0d15a70"
   },
   "outputs": [
    {
     "name": "stdout",
     "output_type": "stream",
     "text": [
      "(4999, 33647)\n"
     ]
    }
   ],
   "source": [
    "# Text to Features\n",
    "# Feature extraction from text \n",
    "# Method: bag of words\n",
    "X_test_vect = vectorizer.transform(X_test)\n",
    "print(X_test_vect.shape)"
   ]
  },
  {
   "cell_type": "code",
   "execution_count": 93,
   "metadata": {
    "_uuid": "2e69602080a3180d364c13eb7944c524f114aaff"
   },
   "outputs": [
    {
     "name": "stdout",
     "output_type": "stream",
     "text": [
      "(4999, 33647)\n"
     ]
    }
   ],
   "source": [
    "# TF-IDF: Term Frequency - Inverse Document Frequency\n",
    "# use the transform(...) method to transform count-matrix to a tf-idf representation.\n",
    "X_test_tfidf = tfidf_transformer.transform(X_test_vect)\n",
    "print(X_test_tfidf.shape)"
   ]
  },
  {
   "cell_type": "markdown",
   "metadata": {
    "_uuid": "b4adcd97bc40108f9086277c1aac3092965f6448"
   },
   "source": [
    "<h4>Make predictions on validation dataset</h4>"
   ]
  },
  {
   "cell_type": "code",
   "execution_count": 94,
   "metadata": {
    "_uuid": "715a59d8e1e0b99e615fafd92f6d6d3062a7d686"
   },
   "outputs": [],
   "source": [
    "predictions = model.predict(X_test_tfidf)"
   ]
  },
  {
   "cell_type": "markdown",
   "metadata": {
    "_uuid": "b95e9c74a2e64cab0ba49308b14957cf05fd8373"
   },
   "source": [
    "<h4>Analyze results</h4>"
   ]
  },
  {
   "cell_type": "code",
   "execution_count": 95,
   "metadata": {
    "_uuid": "d7c2b7049f46ba7ae183db6808e776985ba61924"
   },
   "outputs": [
    {
     "name": "stdout",
     "output_type": "stream",
     "text": [
      "[[1541   18  107]\n",
      " [  21 1594   51]\n",
      " [ 122   48 1497]]\n"
     ]
    }
   ],
   "source": [
    "matrix = metrics.confusion_matrix(y_test, predictions)\n",
    "print(matrix)"
   ]
  },
  {
   "cell_type": "code",
   "execution_count": 96,
   "metadata": {
    "_uuid": "02afab3a4ac3b291788f628dd76eb8875304ae81"
   },
   "outputs": [
    {
     "name": "stdout",
     "output_type": "stream",
     "text": [
      "['Negative' 'Neutral' 'Positive']\n"
     ]
    }
   ],
   "source": [
    "print(model.classes_)"
   ]
  },
  {
   "cell_type": "code",
   "execution_count": 97,
   "metadata": {
    "_uuid": "2cf4f0df240feeb3d3697a2873e6b46a798d5d9f"
   },
   "outputs": [
    {
     "name": "stdout",
     "output_type": "stream",
     "text": [
      "0.9265853170634126 0.9265853170634126\n"
     ]
    }
   ],
   "source": [
    "acc1 = np.mean(predictions == y_test)\n",
    "acc2 = _get_accuracy(matrix)\n",
    "print(acc1, acc2)"
   ]
  },
  {
   "cell_type": "code",
   "execution_count": 98,
   "metadata": {
    "_uuid": "10584946eddea813aa711093762e373e1f0cf79e"
   },
   "outputs": [
    {
     "name": "stdout",
     "output_type": "stream",
     "text": [
      "'! obrig positive_emoticon ' => Positive [Positive]\n",
      "'vai pa put par positive_emoticon ' => Positive [Positive]\n",
      "'qu descont ? ( 14 / 0neutral_emoticon ⭐⭐⭐⭐⭐ 🌐 conf link compartilh ! encontr ofert cupom procur ? preocup ;) cri pagin ofert cupom atual di positive_emoticon ' => Positive [Positive]\n",
      "'peg , ajud gal , am but . positive_emoticon ' => Positive [Positive]\n",
      "'cas zé morr son , cheg cas fic son positive_emoticon )) ' => Positive [Positive]\n",
      "'precis positive_emoticon ' => Positive [Positive]\n",
      "'acas ador beij abraç hahahahah bue fofii ahahah altur agor gost positive_emoticon ' => Positive [Positive]\n",
      "'solt s so sempr positive_emoticon ' => Positive [Positive]\n",
      "'lind cort kit mári coleç bia cravol cadastr sit , esper pod ir adquir arras encomend , afinal tem moment positive_emoticon ' => Positive [Positive]\n",
      "'clar sim positive_emoticon ' => Positive [Positive]\n"
     ]
    }
   ],
   "source": [
    "for doc, prediction, y in zip(X_test[0:10], predictions[0:10], y_test[0:10]):\n",
    "    print('%r => %s [%s]' % (doc, prediction, y))"
   ]
  },
  {
   "cell_type": "code",
   "execution_count": 99,
   "metadata": {
    "_uuid": "99fc3b29a496d060b7b0673b7e5de540fe2a78d9"
   },
   "outputs": [
    {
     "name": "stdout",
     "output_type": "stream",
     "text": [
      "              precision    recall  f1-score   support\n",
      "\n",
      "    Negative       0.92      0.92      0.92      1666\n",
      "     Neutral       0.96      0.96      0.96      1666\n",
      "    Positive       0.90      0.90      0.90      1667\n",
      "\n",
      "    accuracy                           0.93      4999\n",
      "   macro avg       0.93      0.93      0.93      4999\n",
      "weighted avg       0.93      0.93      0.93      4999\n",
      "\n"
     ]
    }
   ],
   "source": [
    "# performance analysis of the results\n",
    "print(metrics.classification_report(y_test, predictions, target_names=model.classes_))"
   ]
  },
  {
   "cell_type": "markdown",
   "metadata": {
    "_uuid": "fa6d4040e5514ce9bf96ff3621b3f594e03ce129"
   },
   "source": [
    "<h2>Building a pipeline MultinomialNB</h2>\n",
    "In order to make the vectorizer => transformer => classifier easier to work with, scikit-learn provides a Pipeline class that behaves like a compound classifier:"
   ]
  },
  {
   "cell_type": "code",
   "execution_count": 100,
   "metadata": {
    "_uuid": "dbdbb7e17aa4f18ffbf898449c5b8fbe74c28529"
   },
   "outputs": [],
   "source": [
    "model_MNB = Pipeline([\n",
    "    ('vect', CountVectorizer()),\n",
    "    ('tfidf', TfidfTransformer()),\n",
    "    ('clf', MultinomialNB()),\n",
    "])"
   ]
  },
  {
   "cell_type": "markdown",
   "metadata": {
    "_uuid": "94790438744bb13b0d60558eb88d421679d715c7"
   },
   "source": [
    "The names vect, tfidf and clf (classifier) are arbitrary. We will use them to perform grid search for suitable hyperparameters below. We can now train the model with a single command:"
   ]
  },
  {
   "cell_type": "code",
   "execution_count": 101,
   "metadata": {
    "_uuid": "5359d8d1e59493dc0ad77b262ce2c29194085e92"
   },
   "outputs": [],
   "source": [
    "model_MNB.fit(X_train, y_train)\n",
    "predictions_MNB = model_MNB.predict(X_test)"
   ]
  },
  {
   "cell_type": "code",
   "execution_count": 102,
   "metadata": {
    "_uuid": "aa94dfbef6e59d4354c6e507f9ce21f920192ee2"
   },
   "outputs": [
    {
     "name": "stdout",
     "output_type": "stream",
     "text": [
      "0.9265853170634126\n"
     ]
    }
   ],
   "source": [
    "matrix = metrics.confusion_matrix(y_test, predictions_MNB)\n",
    "acc = _get_accuracy(matrix)\n",
    "print(acc)"
   ]
  },
  {
   "cell_type": "markdown",
   "metadata": {
    "_uuid": "63048b9e013d92162bb98754642b3dcf4cc86693"
   },
   "source": [
    "<h2>Building a pipeline SGDClassifier, a linear support vector machine (SVM)</h2>"
   ]
  },
  {
   "cell_type": "code",
   "execution_count": 103,
   "metadata": {
    "_uuid": "8a52aa92748b056bb0037e4cd6c834be9380706c"
   },
   "outputs": [],
   "source": [
    "model_SGD = Pipeline([\n",
    "    ('vect', CountVectorizer()),\n",
    "    ('tfidf', TfidfTransformer()),\n",
    "    ('clf', SGDClassifier(loss = 'hinge', penalty = 'l2', alpha = 1e-3, random_state = 42, max_iter = 5, tol = None)),\n",
    "])"
   ]
  },
  {
   "cell_type": "code",
   "execution_count": 104,
   "metadata": {
    "_kg_hide-output": true,
    "_uuid": "7f900d470fdc124268bb103a9abad1f65f26e343"
   },
   "outputs": [],
   "source": [
    "model_SGD.fit(X_train, y_train)\n",
    "predictions_SGD = model_SGD.predict(X_test)"
   ]
  },
  {
   "cell_type": "code",
   "execution_count": 105,
   "metadata": {
    "_uuid": "33fb2657ce373d5e632f4589dc349275ce287857"
   },
   "outputs": [
    {
     "name": "stdout",
     "output_type": "stream",
     "text": [
      "0.9585917183436687\n"
     ]
    }
   ],
   "source": [
    "matrix = metrics.confusion_matrix(y_test, predictions_SGD)\n",
    "acc = _get_accuracy(matrix)\n",
    "print(acc)"
   ]
  },
  {
   "cell_type": "markdown",
   "metadata": {
    "_uuid": "7a3e25dfce3d5c06e454d90733f28cc230449578"
   },
   "source": [
    "<h2>Parameter tuning using grid search SGDClassifier</h2>"
   ]
  },
  {
   "cell_type": "markdown",
   "metadata": {
    "_uuid": "8301394db4fb0b91e54c1e2e06c5378d2e34ac86"
   },
   "source": [
    "Instead of tweaking the parameters of the various components of the chain, it is possible to run an exhaustive search of the best parameters on a grid of possible values"
   ]
  },
  {
   "cell_type": "code",
   "execution_count": 106,
   "metadata": {
    "_uuid": "ba9884fd4a52c1471d287a86ad5cb182fe6aea41"
   },
   "outputs": [],
   "source": [
    "parameters = {\n",
    "    'vect__ngram_range': [(1, 1), (1, 2)],\n",
    "    'tfidf__use_idf': (True, False),\n",
    "    'clf__alpha': (1e-2, 1e-3),\n",
    "}"
   ]
  },
  {
   "cell_type": "code",
   "execution_count": 107,
   "metadata": {
    "_kg_hide-output": true,
    "_uuid": "c34c8eb9b02180743ceca0b146ab062396ee5059"
   },
   "outputs": [
    {
     "name": "stderr",
     "output_type": "stream",
     "text": [
      "/Users/ruideoliveira/anaconda3/lib/python3.7/site-packages/sklearn/model_selection/_search.py:823: FutureWarning: The parameter 'iid' is deprecated in 0.22 and will be removed in 0.24.\n",
      "  \"removed in 0.24.\", FutureWarning\n"
     ]
    }
   ],
   "source": [
    "gs_model_SGD = GridSearchCV(model_SGD, parameters, cv = 5, iid = False, n_jobs = -1)\n",
    "gs_model_SGD = gs_model_SGD.fit(X_train, y_train)"
   ]
  },
  {
   "cell_type": "code",
   "execution_count": 108,
   "metadata": {
    "_uuid": "03391a2ac24f01fbec552158ab2844c4ea627913"
   },
   "outputs": [
    {
     "name": "stdout",
     "output_type": "stream",
     "text": [
      "['Neutral']\n"
     ]
    }
   ],
   "source": [
    "gs_predictions_SGD = gs_model_SGD.predict(['alegr lut tent sofr envolv não vit propri dit.'])\n",
    "print(gs_predictions_SGD)"
   ]
  },
  {
   "cell_type": "code",
   "execution_count": 109,
   "metadata": {
    "_uuid": "07c70cb01e10c034160741b660ea506081309ec4"
   },
   "outputs": [
    {
     "data": {
      "text/plain": [
       "['alegr lut , tent , sofr envolv vitór propr dit ! ',\n",
       " 'alegr evit mil mal prolong vid . ',\n",
       " 'dev maltrat idos , possu muit sabed ! ',\n",
       " 'tom cuid dracul negative_emoticon ']"
      ]
     },
     "execution_count": 109,
     "metadata": {},
     "output_type": "execute_result"
    }
   ],
   "source": [
    "X_new"
   ]
  },
  {
   "cell_type": "code",
   "execution_count": 110,
   "metadata": {
    "_uuid": "1fe75f3c773d5192c0d2ad097e94411881fdf961"
   },
   "outputs": [
    {
     "name": "stdout",
     "output_type": "stream",
     "text": [
      "['Neutral' 'Neutral' 'Neutral' 'Negative']\n"
     ]
    }
   ],
   "source": [
    "gs_predictions_SGD = gs_model_SGD.predict(X_new)\n",
    "print(gs_predictions_SGD)"
   ]
  },
  {
   "cell_type": "code",
   "execution_count": 111,
   "metadata": {
    "_uuid": "300788f966f99fe6bdca2787062de09664f1a062"
   },
   "outputs": [
    {
     "name": "stdout",
     "output_type": "stream",
     "text": [
      "0.96359\n"
     ]
    }
   ],
   "source": [
    "print(gs_model_SGD.best_score_)"
   ]
  },
  {
   "cell_type": "code",
   "execution_count": 112,
   "metadata": {
    "_uuid": "6e435bbb76f9bb8fe5508b40b8c363e8ede2c419"
   },
   "outputs": [
    {
     "name": "stdout",
     "output_type": "stream",
     "text": [
      "{'clf__alpha': 0.001, 'tfidf__use_idf': False, 'vect__ngram_range': (1, 2)}\n"
     ]
    }
   ],
   "source": [
    "print(gs_model_SGD.best_params_)"
   ]
  },
  {
   "cell_type": "code",
   "execution_count": 113,
   "metadata": {
    "_uuid": "b54b86c052d5459b37196b9fc7063a3f8d192bab"
   },
   "outputs": [
    {
     "name": "stdout",
     "output_type": "stream",
     "text": [
      "clf__alpha: 0.001\n",
      "tfidf__use_idf: False\n",
      "vect__ngram_range: (1, 2)\n"
     ]
    }
   ],
   "source": [
    "for param_name in sorted(parameters.keys()):\n",
    "    print(\"%s: %r\" % (param_name, gs_model_SGD.best_params_[param_name]))"
   ]
  },
  {
   "cell_type": "markdown",
   "metadata": {
    "_uuid": "5fe30586ef93be4c5bb0ecab95da7b4531d4e15e"
   },
   "source": [
    "<h2>Evaluating other models</h2>\n",
    "Logistic Regression\n",
    "<br/>\n",
    "Support Vector Machine (SVM)\n",
    "<br/>\n",
    "Random Forest\n",
    "<br/>\n",
    "Gradient Boosting Model"
   ]
  },
  {
   "cell_type": "markdown",
   "metadata": {
    "_uuid": "830cfe321be176485d9c50d3a1ecde5805e184bf"
   },
   "source": [
    "<h2>Implementing a Linear Classifier (Logistic Regression)</h2>"
   ]
  },
  {
   "cell_type": "code",
   "execution_count": 114,
   "metadata": {
    "_uuid": "3ebdd49d22415974348c6aee943cfe4871a8c7c2"
   },
   "outputs": [],
   "source": [
    "model_LR = Pipeline([\n",
    "    ('vect', CountVectorizer()),\n",
    "    ('tfidf', TfidfTransformer()),\n",
    "    ('clf', LogisticRegression(random_state=0, solver='lbfgs', multi_class='multinomial')),\n",
    "])"
   ]
  },
  {
   "cell_type": "code",
   "execution_count": 115,
   "metadata": {
    "_kg_hide-output": true,
    "_uuid": "335d217fee10a3f420a7fe2538927a02b73f4a7a"
   },
   "outputs": [
    {
     "name": "stderr",
     "output_type": "stream",
     "text": [
      "/Users/ruideoliveira/anaconda3/lib/python3.7/site-packages/sklearn/linear_model/_logistic.py:940: ConvergenceWarning: lbfgs failed to converge (status=1):\n",
      "STOP: TOTAL NO. of ITERATIONS REACHED LIMIT.\n",
      "\n",
      "Increase the number of iterations (max_iter) or scale the data as shown in:\n",
      "    https://scikit-learn.org/stable/modules/preprocessing.html\n",
      "Please also refer to the documentation for alternative solver options:\n",
      "    https://scikit-learn.org/stable/modules/linear_model.html#logistic-regression\n",
      "  extra_warning_msg=_LOGISTIC_SOLVER_CONVERGENCE_MSG)\n"
     ]
    }
   ],
   "source": [
    "model_LR.fit(X_train, y_train)\n",
    "predictions_LR = model_LR.predict(X_test)"
   ]
  },
  {
   "cell_type": "code",
   "execution_count": 116,
   "metadata": {
    "_uuid": "5c825174a200f8a4c2870fbaf0e7153bba48050b"
   },
   "outputs": [
    {
     "name": "stdout",
     "output_type": "stream",
     "text": [
      "0.9695939187837568\n"
     ]
    }
   ],
   "source": [
    "matrix = metrics.confusion_matrix(y_test, predictions_LR)\n",
    "acc = _get_accuracy(matrix)\n",
    "print(acc)"
   ]
  },
  {
   "cell_type": "markdown",
   "metadata": {
    "_uuid": "6bcb904d5bcb5f680dd9daf8c02b76954950d542"
   },
   "source": [
    "<h2>Implementing a Support Vector Machine (SVM) Model</h2>"
   ]
  },
  {
   "cell_type": "code",
   "execution_count": 117,
   "metadata": {
    "_kg_hide-output": true,
    "_uuid": "1bb8ea8cdc0755f355dbb1ecbe94618b9a2f2b8a"
   },
   "outputs": [
    {
     "data": {
      "text/plain": [
       "\"\\nmodel_SVC = Pipeline([\\n    ('vect', CountVectorizer()),\\n    ('tfidf', TfidfTransformer()),\\n    ('clf', SVC()),\\n])\\n\""
      ]
     },
     "execution_count": 117,
     "metadata": {},
     "output_type": "execute_result"
    }
   ],
   "source": [
    "'''\n",
    "model_SVC = Pipeline([\n",
    "    ('vect', CountVectorizer()),\n",
    "    ('tfidf', TfidfTransformer()),\n",
    "    ('clf', SVC()),\n",
    "])\n",
    "'''"
   ]
  },
  {
   "cell_type": "code",
   "execution_count": 118,
   "metadata": {
    "_kg_hide-output": true,
    "_uuid": "10d6a981648328d3bf0826783fc2f634eba148ae"
   },
   "outputs": [
    {
     "data": {
      "text/plain": [
       "'\\nmodel_SVC.fit(X_train, y_train)\\npredictions_SVC = model_SVC.predict(X_test)\\n'"
      ]
     },
     "execution_count": 118,
     "metadata": {},
     "output_type": "execute_result"
    }
   ],
   "source": [
    "'''\n",
    "model_SVC.fit(X_train, y_train)\n",
    "predictions_SVC = model_SVC.predict(X_test)\n",
    "'''"
   ]
  },
  {
   "cell_type": "code",
   "execution_count": 115,
   "metadata": {
    "_kg_hide-output": true,
    "_uuid": "6ded3cd6020c70b93325495af8c59583bb2cfa75"
   },
   "outputs": [
    {
     "data": {
      "text/plain": [
       "'\\nmatrix = metrics.confusion_matrix(y_test, predictions_SVC)\\nacc = _get_accuracy(matrix)\\nprint(acc)\\n'"
      ]
     },
     "execution_count": 115,
     "metadata": {},
     "output_type": "execute_result"
    }
   ],
   "source": [
    "'''\n",
    "matrix = metrics.confusion_matrix(y_test, predictions_SVC)\n",
    "acc = _get_accuracy(matrix)\n",
    "print(acc)\n",
    "'''"
   ]
  },
  {
   "cell_type": "markdown",
   "metadata": {
    "_uuid": "02a043145724f1ce5b626329816c59268c605683"
   },
   "source": [
    "<h2>Implementing a Random Forest Model</h2>"
   ]
  },
  {
   "cell_type": "code",
   "execution_count": 116,
   "metadata": {
    "_kg_hide-output": true,
    "_uuid": "f5cbab0b4815ebb7305e6ac1140426cbbd4cf2df"
   },
   "outputs": [
    {
     "data": {
      "text/plain": [
       "\"\\nmodel_RF = Pipeline([\\n    ('vect', CountVectorizer()),\\n    ('tfidf', TfidfTransformer()),\\n    ('clf', RandomForestClassifier()),\\n])\\n\""
      ]
     },
     "execution_count": 116,
     "metadata": {},
     "output_type": "execute_result"
    }
   ],
   "source": [
    "'''\n",
    "model_RF = Pipeline([\n",
    "    ('vect', CountVectorizer()),\n",
    "    ('tfidf', TfidfTransformer()),\n",
    "    ('clf', RandomForestClassifier()),\n",
    "])\n",
    "'''"
   ]
  },
  {
   "cell_type": "code",
   "execution_count": 117,
   "metadata": {
    "_kg_hide-output": true,
    "_uuid": "03abde6919a358e2c5892b8a294845627ef3c6fb"
   },
   "outputs": [
    {
     "data": {
      "text/plain": [
       "'\\nmodel_RF.fit(X_train, y_train)\\npredictions_RF = model_RF.predict(X_test)\\n'"
      ]
     },
     "execution_count": 117,
     "metadata": {},
     "output_type": "execute_result"
    }
   ],
   "source": [
    "'''\n",
    "model_RF.fit(X_train, y_train)\n",
    "predictions_RF = model_RF.predict(X_test)\n",
    "'''"
   ]
  },
  {
   "cell_type": "code",
   "execution_count": 118,
   "metadata": {
    "_kg_hide-output": true,
    "_uuid": "1bfb4360de72eb1fc5668a0ba3d5296246b039a1"
   },
   "outputs": [
    {
     "data": {
      "text/plain": [
       "'\\nmatrix = metrics.confusion_matrix(y_test, predictions_RF)\\nacc = _get_accuracy(matrix)\\nprint(acc)\\n'"
      ]
     },
     "execution_count": 118,
     "metadata": {},
     "output_type": "execute_result"
    }
   ],
   "source": [
    "'''\n",
    "matrix = metrics.confusion_matrix(y_test, predictions_RF)\n",
    "acc = _get_accuracy(matrix)\n",
    "print(acc)\n",
    "'''"
   ]
  },
  {
   "cell_type": "markdown",
   "metadata": {
    "_uuid": "2dff197a5c43136d1ceebbba86f4b6618eb373d7"
   },
   "source": [
    "<h2>Implementing Gradient Boosting Model</h2>"
   ]
  },
  {
   "cell_type": "code",
   "execution_count": 119,
   "metadata": {
    "_kg_hide-output": true,
    "_uuid": "0d49ab692391c0a7ffcd3cf55720d639acf88d43"
   },
   "outputs": [
    {
     "data": {
      "text/plain": [
       "\"\\nmodel_GB = Pipeline([\\n    ('vect', CountVectorizer()),\\n    ('tfidf', TfidfTransformer()),\\n    ('clf', GradientBoostingClassifier()),\\n])\\n\""
      ]
     },
     "execution_count": 119,
     "metadata": {},
     "output_type": "execute_result"
    }
   ],
   "source": [
    "'''\n",
    "model_GB = Pipeline([\n",
    "    ('vect', CountVectorizer()),\n",
    "    ('tfidf', TfidfTransformer()),\n",
    "    ('clf', GradientBoostingClassifier()),\n",
    "])\n",
    "'''"
   ]
  },
  {
   "cell_type": "code",
   "execution_count": 120,
   "metadata": {
    "_kg_hide-output": true,
    "_uuid": "60236457600c5e548e2047a28fb1125977bf6d7a"
   },
   "outputs": [
    {
     "data": {
      "text/plain": [
       "'\\nmodel_GB.fit(X_train, y_train)\\npredictions_GB = model_GB.predict(X_test)\\n'"
      ]
     },
     "execution_count": 120,
     "metadata": {},
     "output_type": "execute_result"
    }
   ],
   "source": [
    "'''\n",
    "model_GB.fit(X_train, y_train)\n",
    "predictions_GB = model_GB.predict(X_test)\n",
    "'''"
   ]
  },
  {
   "cell_type": "code",
   "execution_count": 121,
   "metadata": {
    "_kg_hide-output": true,
    "_uuid": "2bcbf87d1dfa014d7c74557ee032d71a538df73a"
   },
   "outputs": [
    {
     "data": {
      "text/plain": [
       "'\\nmatrix = metrics.confusion_matrix(y_test, predictions_GB)\\nacc = _get_accuracy(matrix)\\nprint(acc)\\n'"
      ]
     },
     "execution_count": 121,
     "metadata": {},
     "output_type": "execute_result"
    }
   ],
   "source": [
    "'''\n",
    "matrix = metrics.confusion_matrix(y_test, predictions_GB)\n",
    "acc = _get_accuracy(matrix)\n",
    "print(acc)\n",
    "'''"
   ]
  },
  {
   "cell_type": "markdown",
   "metadata": {
    "_uuid": "600fd17f2a707ee45f4a6e4dc39a6c29d318cf41"
   },
   "source": [
    "<h2>Implementing Neural Networks (not implemented...)</h2>\n",
    "continue in other kernels..."
   ]
  },
  {
   "cell_type": "markdown",
   "metadata": {
    "_uuid": "7efef67ddc466156cbf09223fa244d4f318b6868"
   },
   "source": [
    "### Sentiment of Political Tweets"
   ]
  },
  {
   "cell_type": "code",
   "execution_count": 146,
   "metadata": {},
   "outputs": [],
   "source": [
    "import json\n",
    "\n",
    "# read in JB and LL data from json files\n",
    "with open('JBjson.txt') as json_file:\n",
    "    JBdata = json.load(json_file)\n",
    "    \n",
    "with open('LLjson.txt') as json_file: \n",
    "    LLdata = json.load(json_file)  \n",
    "    \n",
    "rightist_pols = [\"GeneralMourao\", \"FlavioBolsonaro\", \"TerezaCrisMS\", \"onyxlorenzoni\", \n",
    "                \"PauloGuedesMin\", \"AbrahamWeint\", \"soudaniella111\", \"majorolimpio\", \"SorayaThronicke\"]\n",
    "\n",
    "leftist_pols = [\"senadorhumberto\", \"elizianegama\", \"senadorjpprates\", \"dilmabr\", \"senadorpaulor\", \n",
    "                \"jaqueswagner\", \"paulopaim\", \"gleisi\", \"FlavioDino\"]"
   ]
  },
  {
   "cell_type": "code",
   "execution_count": 147,
   "metadata": {},
   "outputs": [],
   "source": [
    "JBdf = pd.DataFrame(JBdata)\n",
    "LLdf = pd.DataFrame(LLdata)"
   ]
  },
  {
   "cell_type": "code",
   "execution_count": 148,
   "metadata": {},
   "outputs": [],
   "source": [
    "rightist_df = JBdf\n",
    "leftist_df = LLdf\n",
    "\n",
    "# read data for other politicians\n",
    "for politician in rightist_pols:\n",
    "    with open(politician+'json.txt') as json_file:\n",
    "        data = json.load(json_file)\n",
    "        df = pd.DataFrame(data)\n",
    "        # concatenate df to main dataframe\n",
    "        rightist_df = pd.concat([rightist_df, df], ignore_index=True)\n",
    "        \n",
    "for politician in leftist_pols:\n",
    "    with open(politician+'json.txt') as json_file:\n",
    "        data = json.load(json_file)\n",
    "        df = pd.DataFrame(data)\n",
    "        # concatenate df to main dataframe\n",
    "        leftist_df = pd.concat([leftist_df, df], ignore_index=True)"
   ]
  },
  {
   "cell_type": "code",
   "execution_count": 149,
   "metadata": {},
   "outputs": [
    {
     "data": {
      "text/plain": [
       "26712"
      ]
     },
     "execution_count": 149,
     "metadata": {},
     "output_type": "execute_result"
    }
   ],
   "source": [
    "len(rightist_df)"
   ]
  },
  {
   "cell_type": "code",
   "execution_count": 150,
   "metadata": {},
   "outputs": [
    {
     "data": {
      "text/plain": [
       "32131"
      ]
     },
     "execution_count": 150,
     "metadata": {},
     "output_type": "execute_result"
    }
   ],
   "source": [
    "len(leftist_df)"
   ]
  },
  {
   "cell_type": "code",
   "execution_count": 126,
   "metadata": {},
   "outputs": [
    {
     "name": "stdout",
     "output_type": "stream",
     "text": [
      "O caso é complexo, mas o trâmite foi extremamente ágil. Foram rápidos, na verdade, em mais uma clara perseguição po… https://t.co/WyhDE4DMYY\n"
     ]
    }
   ],
   "source": [
    "print(leftist_df.loc[16601,\"text\"])"
   ]
  },
  {
   "cell_type": "code",
   "execution_count": 127,
   "metadata": {},
   "outputs": [
    {
     "data": {
      "text/html": [
       "<div>\n",
       "<style scoped>\n",
       "    .dataframe tbody tr th:only-of-type {\n",
       "        vertical-align: middle;\n",
       "    }\n",
       "\n",
       "    .dataframe tbody tr th {\n",
       "        vertical-align: top;\n",
       "    }\n",
       "\n",
       "    .dataframe thead th {\n",
       "        text-align: right;\n",
       "    }\n",
       "</style>\n",
       "<table border=\"1\" class=\"dataframe\">\n",
       "  <thead>\n",
       "    <tr style=\"text-align: right;\">\n",
       "      <th></th>\n",
       "      <th>contributors</th>\n",
       "      <th>coordinates</th>\n",
       "      <th>created_at</th>\n",
       "      <th>entities</th>\n",
       "      <th>extended_entities</th>\n",
       "      <th>favorite_count</th>\n",
       "      <th>favorited</th>\n",
       "      <th>geo</th>\n",
       "      <th>id</th>\n",
       "      <th>id_str</th>\n",
       "      <th>...</th>\n",
       "      <th>quoted_status</th>\n",
       "      <th>quoted_status_id</th>\n",
       "      <th>quoted_status_id_str</th>\n",
       "      <th>retweet_count</th>\n",
       "      <th>retweeted</th>\n",
       "      <th>retweeted_status</th>\n",
       "      <th>source</th>\n",
       "      <th>text</th>\n",
       "      <th>truncated</th>\n",
       "      <th>user</th>\n",
       "    </tr>\n",
       "  </thead>\n",
       "  <tbody>\n",
       "    <tr>\n",
       "      <th>24846</th>\n",
       "      <td>None</td>\n",
       "      <td>None</td>\n",
       "      <td>Wed Mar 15 15:11:32 +0000 2017</td>\n",
       "      <td>{'hashtags': [{'text': 'GovernoFederal', 'indi...</td>\n",
       "      <td>NaN</td>\n",
       "      <td>79</td>\n",
       "      <td>False</td>\n",
       "      <td>None</td>\n",
       "      <td>842030509488263173</td>\n",
       "      <td>842030509488263173</td>\n",
       "      <td>...</td>\n",
       "      <td>NaN</td>\n",
       "      <td>NaN</td>\n",
       "      <td>NaN</td>\n",
       "      <td>31</td>\n",
       "      <td>False</td>\n",
       "      <td>NaN</td>\n",
       "      <td>&lt;a href=\"http://twitter.com\" rel=\"nofollow\"&gt;Tw...</td>\n",
       "      <td>Solicitei ao @MichelTemer informações sobre os...</td>\n",
       "      <td>False</td>\n",
       "      <td>{'id': 37122131, 'id_str': '37122131', 'name':...</td>\n",
       "    </tr>\n",
       "    <tr>\n",
       "      <th>6102</th>\n",
       "      <td>None</td>\n",
       "      <td>None</td>\n",
       "      <td>Tue Aug 20 16:06:47 +0000 2019</td>\n",
       "      <td>{'hashtags': [], 'symbols': [], 'user_mentions...</td>\n",
       "      <td>NaN</td>\n",
       "      <td>158</td>\n",
       "      <td>False</td>\n",
       "      <td>None</td>\n",
       "      <td>1163844840733499393</td>\n",
       "      <td>1163844840733499393</td>\n",
       "      <td>...</td>\n",
       "      <td>NaN</td>\n",
       "      <td>NaN</td>\n",
       "      <td>NaN</td>\n",
       "      <td>58</td>\n",
       "      <td>False</td>\n",
       "      <td>NaN</td>\n",
       "      <td>&lt;a href=\"https://mobile.twitter.com\" rel=\"nofo...</td>\n",
       "      <td>A Lava Jato descobriu rolos na empresa de Paul...</td>\n",
       "      <td>True</td>\n",
       "      <td>{'id': 76049312, 'id_str': '76049312', 'name':...</td>\n",
       "    </tr>\n",
       "    <tr>\n",
       "      <th>29103</th>\n",
       "      <td>None</td>\n",
       "      <td>None</td>\n",
       "      <td>Tue Mar 31 12:46:52 +0000 2020</td>\n",
       "      <td>{'hashtags': [], 'symbols': [], 'user_mentions...</td>\n",
       "      <td>NaN</td>\n",
       "      <td>1297</td>\n",
       "      <td>False</td>\n",
       "      <td>None</td>\n",
       "      <td>1244969411146141696</td>\n",
       "      <td>1244969411146141696</td>\n",
       "      <td>...</td>\n",
       "      <td>NaN</td>\n",
       "      <td>NaN</td>\n",
       "      <td>NaN</td>\n",
       "      <td>138</td>\n",
       "      <td>False</td>\n",
       "      <td>NaN</td>\n",
       "      <td>&lt;a href=\"http://twitter.com/download/iphone\" r...</td>\n",
       "      <td>Em várias cidades do Maranhão, os bombeiros es...</td>\n",
       "      <td>True</td>\n",
       "      <td>{'id': 25577585, 'id_str': '25577585', 'name':...</td>\n",
       "    </tr>\n",
       "  </tbody>\n",
       "</table>\n",
       "<p>3 rows × 29 columns</p>\n",
       "</div>"
      ],
      "text/plain": [
       "      contributors coordinates                      created_at  \\\n",
       "24846         None        None  Wed Mar 15 15:11:32 +0000 2017   \n",
       "6102          None        None  Tue Aug 20 16:06:47 +0000 2019   \n",
       "29103         None        None  Tue Mar 31 12:46:52 +0000 2020   \n",
       "\n",
       "                                                entities extended_entities  \\\n",
       "24846  {'hashtags': [{'text': 'GovernoFederal', 'indi...               NaN   \n",
       "6102   {'hashtags': [], 'symbols': [], 'user_mentions...               NaN   \n",
       "29103  {'hashtags': [], 'symbols': [], 'user_mentions...               NaN   \n",
       "\n",
       "       favorite_count  favorited   geo                   id  \\\n",
       "24846              79      False  None   842030509488263173   \n",
       "6102              158      False  None  1163844840733499393   \n",
       "29103            1297      False  None  1244969411146141696   \n",
       "\n",
       "                    id_str                        ...                          \\\n",
       "24846   842030509488263173                        ...                           \n",
       "6102   1163844840733499393                        ...                           \n",
       "29103  1244969411146141696                        ...                           \n",
       "\n",
       "      quoted_status  quoted_status_id quoted_status_id_str  retweet_count  \\\n",
       "24846           NaN               NaN                  NaN             31   \n",
       "6102            NaN               NaN                  NaN             58   \n",
       "29103           NaN               NaN                  NaN            138   \n",
       "\n",
       "      retweeted  retweeted_status  \\\n",
       "24846     False               NaN   \n",
       "6102      False               NaN   \n",
       "29103     False               NaN   \n",
       "\n",
       "                                                  source  \\\n",
       "24846  <a href=\"http://twitter.com\" rel=\"nofollow\">Tw...   \n",
       "6102   <a href=\"https://mobile.twitter.com\" rel=\"nofo...   \n",
       "29103  <a href=\"http://twitter.com/download/iphone\" r...   \n",
       "\n",
       "                                                    text truncated  \\\n",
       "24846  Solicitei ao @MichelTemer informações sobre os...     False   \n",
       "6102   A Lava Jato descobriu rolos na empresa de Paul...      True   \n",
       "29103  Em várias cidades do Maranhão, os bombeiros es...      True   \n",
       "\n",
       "                                                    user  \n",
       "24846  {'id': 37122131, 'id_str': '37122131', 'name':...  \n",
       "6102   {'id': 76049312, 'id_str': '76049312', 'name':...  \n",
       "29103  {'id': 25577585, 'id_str': '25577585', 'name':...  \n",
       "\n",
       "[3 rows x 29 columns]"
      ]
     },
     "execution_count": 127,
     "metadata": {},
     "output_type": "execute_result"
    }
   ],
   "source": [
    "leftist_df.sample(3)"
   ]
  },
  {
   "cell_type": "code",
   "execution_count": 136,
   "metadata": {},
   "outputs": [],
   "source": [
    "def _replace_emoticons(data, emoticon_list):\n",
    "    ls = []\n",
    "\n",
    "    emoji_pattern = re.compile(\"[\"\n",
    "                           u\"\\U0001F600-\\U0001F64F\"  # emoticons\n",
    "                           u\"\\U0001F300-\\U0001F5FF\"  # symbols & pictographs\n",
    "                           u\"\\U0001F680-\\U0001F6FF\"  # transport & map symbols\n",
    "                           u\"\\U0001F1E0-\\U0001F1FF\"  # flags (iOS)\n",
    "                           u\"\\U00002702-\\U000027B0\"\n",
    "                           u\"\\U000024C2-\\U0001F251\"\n",
    "                           \"]+\", flags=re.UNICODE)\n",
    "    for line in data:\n",
    "        for exp in emoticon_list:\n",
    "            line = line.replace(exp, emoticon_list[exp])\n",
    "         \n",
    "        emojis = emoji_pattern.findall(line)\n",
    "        for exp in emojis:\n",
    "            line = line.replace(exp, ' ')\n",
    "\n",
    "        ls.append(line)\n",
    "\n",
    "    return ls"
   ]
  },
  {
   "cell_type": "code",
   "execution_count": 151,
   "metadata": {},
   "outputs": [],
   "source": [
    "right_sentiment = []\n",
    "\n",
    "for i in range(len(rightist_df)):\n",
    "    tweet_info = []\n",
    "    tweet_info.append(rightist_df.loc[i, \"user\"][\"id\"])\n",
    "    tweet_info.append(rightist_df.loc[i, \"id\"])\n",
    "    tweet_info.append(rightist_df.loc[i, \"text\"])\n",
    "    right_sentiment.append(tweet_info)\n",
    "    \n",
    "left_sentiment = []\n",
    "for i in range(len(leftist_df)):\n",
    "    tweet_info = []\n",
    "    tweet_info.append(leftist_df.loc[i, \"user\"][\"id\"])\n",
    "    tweet_info.append(leftist_df.loc[i, \"id\"])\n",
    "    tweet_info.append(leftist_df.loc[i, \"text\"])\n",
    "    left_sentiment.append(tweet_info)   "
   ]
  },
  {
   "cell_type": "code",
   "execution_count": 152,
   "metadata": {},
   "outputs": [],
   "source": [
    "rightSent_df = pd.DataFrame(right_sentiment, columns = ['user_id','tweet_id','tweet_text'])\n",
    "leftSent_df = pd.DataFrame(left_sentiment, columns = ['user_id','tweet_id','tweet_text'])"
   ]
  },
  {
   "cell_type": "code",
   "execution_count": 135,
   "metadata": {},
   "outputs": [
    {
     "data": {
      "text/html": [
       "<div>\n",
       "<style scoped>\n",
       "    .dataframe tbody tr th:only-of-type {\n",
       "        vertical-align: middle;\n",
       "    }\n",
       "\n",
       "    .dataframe tbody tr th {\n",
       "        vertical-align: top;\n",
       "    }\n",
       "\n",
       "    .dataframe thead th {\n",
       "        text-align: right;\n",
       "    }\n",
       "</style>\n",
       "<table border=\"1\" class=\"dataframe\">\n",
       "  <thead>\n",
       "    <tr style=\"text-align: right;\">\n",
       "      <th></th>\n",
       "      <th>user_id</th>\n",
       "      <th>tweet_id</th>\n",
       "      <th>tweet_text</th>\n",
       "    </tr>\n",
       "  </thead>\n",
       "  <tbody>\n",
       "    <tr>\n",
       "      <th>0</th>\n",
       "      <td>128372940</td>\n",
       "      <td>1249833606341591041</td>\n",
       "      <td>Para dar mais agilidade às necessidades urgent...</td>\n",
       "    </tr>\n",
       "    <tr>\n",
       "      <th>1</th>\n",
       "      <td>128372940</td>\n",
       "      <td>1249833048205647874</td>\n",
       "      <td>O @govbr regularizou mais de 90.000 CPFs para ...</td>\n",
       "    </tr>\n",
       "    <tr>\n",
       "      <th>2</th>\n",
       "      <td>128372940</td>\n",
       "      <td>1249735782572556290</td>\n",
       "      <td>- Pulverização aérea/Vale do Ribeira/bananicul...</td>\n",
       "    </tr>\n",
       "    <tr>\n",
       "      <th>3</th>\n",
       "      <td>128372940</td>\n",
       "      <td>1249706574135865344</td>\n",
       "      <td>@AMendoncaAGU 🇧🇷</td>\n",
       "    </tr>\n",
       "    <tr>\n",
       "      <th>4</th>\n",
       "      <td>128372940</td>\n",
       "      <td>1249665496087236609</td>\n",
       "      <td>- Os membros da Comissão de Relações Econômica...</td>\n",
       "    </tr>\n",
       "  </tbody>\n",
       "</table>\n",
       "</div>"
      ],
      "text/plain": [
       "     user_id             tweet_id  \\\n",
       "0  128372940  1249833606341591041   \n",
       "1  128372940  1249833048205647874   \n",
       "2  128372940  1249735782572556290   \n",
       "3  128372940  1249706574135865344   \n",
       "4  128372940  1249665496087236609   \n",
       "\n",
       "                                          tweet_text  \n",
       "0  Para dar mais agilidade às necessidades urgent...  \n",
       "1  O @govbr regularizou mais de 90.000 CPFs para ...  \n",
       "2  - Pulverização aérea/Vale do Ribeira/bananicul...  \n",
       "3                                   @AMendoncaAGU 🇧🇷  \n",
       "4  - Os membros da Comissão de Relações Econômica...  "
      ]
     },
     "execution_count": 135,
     "metadata": {},
     "output_type": "execute_result"
    }
   ],
   "source": [
    "rightSent_df.head()"
   ]
  },
  {
   "cell_type": "code",
   "execution_count": 153,
   "metadata": {},
   "outputs": [],
   "source": [
    "rightSent_df = rightSent_df.rename(columns={'text': 'tweet_text'})"
   ]
  },
  {
   "cell_type": "code",
   "execution_count": 154,
   "metadata": {},
   "outputs": [],
   "source": [
    "rightSent_df['tweet_text'] = _remove_url(rightSent_df['tweet_text'])"
   ]
  },
  {
   "cell_type": "code",
   "execution_count": 155,
   "metadata": {},
   "outputs": [],
   "source": [
    "regex_pattern = '#[\\w]*'\n",
    "rightSent_df['tweet_text'] = _remove_regex(rightSent_df['tweet_text'], regex_pattern)"
   ]
  },
  {
   "cell_type": "code",
   "execution_count": 156,
   "metadata": {},
   "outputs": [],
   "source": [
    "regex_pattern = '@[\\w]*'\n",
    "rightSent_df['tweet_text'] = _remove_regex(rightSent_df['tweet_text'], regex_pattern)"
   ]
  },
  {
   "cell_type": "code",
   "execution_count": 157,
   "metadata": {},
   "outputs": [],
   "source": [
    "rightSent_df['tweet_text'] = _replace_emoticons(rightSent_df['tweet_text'], emoticon_list)"
   ]
  },
  {
   "cell_type": "code",
   "execution_count": 158,
   "metadata": {},
   "outputs": [],
   "source": [
    "rightSent_df['tweet_text'] = _tokenize_text(rightSent_df['tweet_text'])"
   ]
  },
  {
   "cell_type": "code",
   "execution_count": 159,
   "metadata": {},
   "outputs": [],
   "source": [
    "rightSent_df['tweet_text'] = _apply_standardization(rightSent_df['tweet_text'], std_list)"
   ]
  },
  {
   "cell_type": "code",
   "execution_count": 160,
   "metadata": {},
   "outputs": [],
   "source": [
    "rightSent_df['tweet_text'] = _remove_stopwords(rightSent_df['tweet_text'], stopword_list)"
   ]
  },
  {
   "cell_type": "code",
   "execution_count": 161,
   "metadata": {},
   "outputs": [],
   "source": [
    "rightSent_df['tweet_text'] = _apply_stemmer(rightSent_df['tweet_text'])"
   ]
  },
  {
   "cell_type": "code",
   "execution_count": 162,
   "metadata": {},
   "outputs": [],
   "source": [
    "rightSent_df['tweet_text'] = _untokenize_text(rightSent_df['tweet_text'])"
   ]
  },
  {
   "cell_type": "code",
   "execution_count": 163,
   "metadata": {},
   "outputs": [],
   "source": [
    "rightSent_vect = vectorizer.transform(rightSent_df['tweet_text'])"
   ]
  },
  {
   "cell_type": "code",
   "execution_count": 164,
   "metadata": {},
   "outputs": [],
   "source": [
    "rightSent_tfidf = tfidf_transformer.transform(rightSent_vect)"
   ]
  },
  {
   "cell_type": "code",
   "execution_count": 165,
   "metadata": {},
   "outputs": [],
   "source": [
    "rightSent_pred =  model.predict(rightSent_tfidf)"
   ]
  },
  {
   "cell_type": "code",
   "execution_count": 166,
   "metadata": {},
   "outputs": [
    {
     "name": "stdout",
     "output_type": "stream",
     "text": [
      "['Neutral' 'Neutral' 'Neutral' 'Positive' 'Neutral' 'Neutral' 'Negative'\n",
      " 'Positive' 'Neutral' 'Neutral']\n"
     ]
    }
   ],
   "source": [
    "print(rightSent_pred[0:10])"
   ]
  },
  {
   "cell_type": "code",
   "execution_count": 167,
   "metadata": {},
   "outputs": [],
   "source": [
    "leftSent_df = leftSent_df.rename(columns={'text': 'tweet_text'})\n",
    "# text preprocessing\n",
    "leftSent_df['tweet_text'] = _remove_url(leftSent_df['tweet_text'])\n",
    "regex_pattern = '#[\\w]*'\n",
    "leftSent_df['tweet_text'] = _remove_regex(leftSent_df['tweet_text'], regex_pattern)\n",
    "regex_pattern = '@[\\w]*'\n",
    "leftSent_df['tweet_text'] = _remove_regex(leftSent_df['tweet_text'], regex_pattern)\n",
    "leftSent_df['tweet_text'] = _replace_emoticons(leftSent_df['tweet_text'], emoticon_list)\n",
    "\n",
    "leftSent_df['tweet_text'] = _tokenize_text(leftSent_df['tweet_text'])\n",
    "leftSent_df['tweet_text'] = _apply_standardization(leftSent_df['tweet_text'], std_list)\n",
    "leftSent_df['tweet_text'] = _remove_stopwords(leftSent_df['tweet_text'], stopword_list)\n",
    "leftSent_df['tweet_text'] = _apply_stemmer(leftSent_df['tweet_text'])\n",
    "leftSent_df['tweet_text'] = _untokenize_text(leftSent_df['tweet_text'])\n",
    "\n",
    "leftSent_vect = vectorizer.transform(leftSent_df['tweet_text'])\n",
    "leftSent_tfidf = tfidf_transformer.transform(leftSent_vect)\n",
    "\n"
   ]
  },
  {
   "cell_type": "code",
   "execution_count": 168,
   "metadata": {},
   "outputs": [],
   "source": [
    "leftSent_pred =  model.predict(leftSent_tfidf)"
   ]
  },
  {
   "cell_type": "code",
   "execution_count": 280,
   "metadata": {},
   "outputs": [
    {
     "name": "stdout",
     "output_type": "stream",
     "text": [
      "['Negative' 'Neutral' 'Neutral' 'Neutral' 'Neutral' 'Neutral' 'Positive'\n",
      " 'Positive' 'Positive' 'Positive']\n"
     ]
    }
   ],
   "source": [
    "print(leftSent_pred[0:10])"
   ]
  },
  {
   "cell_type": "code",
   "execution_count": 170,
   "metadata": {},
   "outputs": [
    {
     "data": {
      "image/png": "[encoded data removed]",
      "text/plain": [
       "<Figure size 432x288 with 1 Axes>"
      ]
     },
     "metadata": {
      "needs_background": "light"
     },
     "output_type": "display_data"
    }
   ],
   "source": [
    "import numpy\n",
    "import matplotlib.pyplot as plot\n",
    "\n",
    "unique, counts = numpy.unique(rightSent_pred, return_counts=True)\n",
    "right_sent = dict(zip(unique, counts))\n",
    "keys = right_sent.keys()\n",
    "values = right_sent.values()\n",
    "plot.bar(keys, values, color = ['red','red','red'])\n",
    "plot.title('Right Wing Politician Tweet Sentiments')\n",
    "plot.xlabel('Sentiment')\n",
    "plot.ylabel('Count')\n",
    "plot.ylim(bottom = 0, top = 25000)\n",
    "plot.savefig('rightsentiment.png')"
   ]
  },
  {
   "cell_type": "code",
   "execution_count": 172,
   "metadata": {},
   "outputs": [
    {
     "data": {
      "image/png": "[encoded data removed]",
      "text/plain": [
       "<Figure size 432x288 with 1 Axes>"
      ]
     },
     "metadata": {
      "needs_background": "light"
     },
     "output_type": "display_data"
    }
   ],
   "source": [
    "unique, counts = numpy.unique(leftSent_pred, return_counts=True)\n",
    "left_sent = dict(zip(unique, counts))\n",
    "keys = left_sent.keys()\n",
    "values = left_sent.values()\n",
    "plot.bar(keys, values, color = ['blue','blue','blue'])\n",
    "plot.title('Left Wing Politician Tweet Sentiments')\n",
    "plot.xlabel('Sentiment')\n",
    "plot.ylabel('Count')\n",
    "\n",
    "plot.savefig('leftsentiment.png')"
   ]
  },
  {
   "cell_type": "code",
   "execution_count": 176,
   "metadata": {},
   "outputs": [
    {
     "name": "stdout",
     "output_type": "stream",
     "text": [
      "{'Negative': 1521, 'Neutral': 15898, 'Positive': 9293}\n"
     ]
    }
   ],
   "source": [
    "print(right_sent)"
   ]
  },
  {
   "cell_type": "markdown",
   "metadata": {},
   "source": [
    "### Mean and Standard Dev"
   ]
  },
  {
   "cell_type": "code",
   "execution_count": 188,
   "metadata": {},
   "outputs": [
    {
     "name": "stdout",
     "output_type": "stream",
     "text": [
      "0.6454776879305181\n",
      "0.08004843340578814\n"
     ]
    }
   ],
   "source": [
    "import math\n",
    "# neg = 0, neutral = 0.5, pos = 1\n",
    "tot_tweets = sum(right_sent.values())\n",
    "right_mean = ((right_sent['Neutral']*0.5) + (right_sent['Positive']*1)) / tot_tweets\n",
    "right_std = ((right_sent['Negative']*math.pow((0-right_mean),2)) + \n",
    "            (right_sent['Neutral']*math.pow((0.5-right_mean),2)) +\n",
    "            (right_sent['Positive']*math.pow((1-right_mean),2))) / (tot_tweets - 1)\n",
    "\n",
    "print(right_mean)  \n",
    "print(right_std)"
   ]
  },
  {
   "cell_type": "code",
   "execution_count": 189,
   "metadata": {},
   "outputs": [
    {
     "name": "stdout",
     "output_type": "stream",
     "text": [
      "0.5624474806261865\n",
      "0.040645786807455855\n"
     ]
    }
   ],
   "source": [
    "tot_tweets = sum(left_sent.values())\n",
    "left_mean = ((left_sent['Neutral']*0.5) + (left_sent['Positive']*1)) / tot_tweets\n",
    "left_std = ((left_sent['Negative']*math.pow((0-left_mean),2)) + \n",
    "            (left_sent['Neutral']*math.pow((0.5-left_mean),2)) +\n",
    "            (left_sent['Positive']*math.pow((1-left_mean),2))) / (tot_tweets - 1)\n",
    "print(left_mean) \n",
    "print(left_std)"
   ]
  },
  {
   "cell_type": "code",
   "execution_count": 193,
   "metadata": {},
   "outputs": [
    {
     "data": {
      "text/html": [
       "<div>\n",
       "<style scoped>\n",
       "    .dataframe tbody tr th:only-of-type {\n",
       "        vertical-align: middle;\n",
       "    }\n",
       "\n",
       "    .dataframe tbody tr th {\n",
       "        vertical-align: top;\n",
       "    }\n",
       "\n",
       "    .dataframe thead th {\n",
       "        text-align: right;\n",
       "    }\n",
       "</style>\n",
       "<table border=\"1\" class=\"dataframe\">\n",
       "  <thead>\n",
       "    <tr style=\"text-align: right;\">\n",
       "      <th></th>\n",
       "      <th>contributors</th>\n",
       "      <th>coordinates</th>\n",
       "      <th>created_at</th>\n",
       "      <th>entities</th>\n",
       "      <th>extended_entities</th>\n",
       "      <th>favorite_count</th>\n",
       "      <th>favorited</th>\n",
       "      <th>geo</th>\n",
       "      <th>id</th>\n",
       "      <th>id_str</th>\n",
       "      <th>...</th>\n",
       "      <th>quoted_status_id</th>\n",
       "      <th>quoted_status_id_str</th>\n",
       "      <th>retweet_count</th>\n",
       "      <th>retweeted</th>\n",
       "      <th>retweeted_status</th>\n",
       "      <th>source</th>\n",
       "      <th>text</th>\n",
       "      <th>truncated</th>\n",
       "      <th>user</th>\n",
       "      <th>politics</th>\n",
       "    </tr>\n",
       "  </thead>\n",
       "  <tbody>\n",
       "    <tr>\n",
       "      <th>0</th>\n",
       "      <td>None</td>\n",
       "      <td>None</td>\n",
       "      <td>Mon Apr 13 22:55:27 +0000 2020</td>\n",
       "      <td>{'hashtags': [], 'symbols': [], 'user_mentions...</td>\n",
       "      <td>NaN</td>\n",
       "      <td>14496</td>\n",
       "      <td>False</td>\n",
       "      <td>None</td>\n",
       "      <td>1249833606341591041</td>\n",
       "      <td>1249833606341591041</td>\n",
       "      <td>...</td>\n",
       "      <td>NaN</td>\n",
       "      <td>NaN</td>\n",
       "      <td>2168</td>\n",
       "      <td>False</td>\n",
       "      <td>NaN</td>\n",
       "      <td>&lt;a href=\"http://twitter.com/download/android\" ...</td>\n",
       "      <td>Para dar mais agilidade às necessidades urgent...</td>\n",
       "      <td>True</td>\n",
       "      <td>{'id': 128372940, 'id_str': '128372940', 'name...</td>\n",
       "      <td>right</td>\n",
       "    </tr>\n",
       "    <tr>\n",
       "      <th>1</th>\n",
       "      <td>None</td>\n",
       "      <td>None</td>\n",
       "      <td>Mon Apr 13 22:53:14 +0000 2020</td>\n",
       "      <td>{'hashtags': [], 'symbols': [], 'user_mentions...</td>\n",
       "      <td>NaN</td>\n",
       "      <td>29539</td>\n",
       "      <td>False</td>\n",
       "      <td>None</td>\n",
       "      <td>1249833048205647874</td>\n",
       "      <td>1249833048205647874</td>\n",
       "      <td>...</td>\n",
       "      <td>NaN</td>\n",
       "      <td>NaN</td>\n",
       "      <td>5149</td>\n",
       "      <td>False</td>\n",
       "      <td>NaN</td>\n",
       "      <td>&lt;a href=\"http://twitter.com/download/android\" ...</td>\n",
       "      <td>O @govbr regularizou mais de 90.000 CPFs para ...</td>\n",
       "      <td>True</td>\n",
       "      <td>{'id': 128372940, 'id_str': '128372940', 'name...</td>\n",
       "      <td>right</td>\n",
       "    </tr>\n",
       "    <tr>\n",
       "      <th>2</th>\n",
       "      <td>None</td>\n",
       "      <td>None</td>\n",
       "      <td>Mon Apr 13 16:26:44 +0000 2020</td>\n",
       "      <td>{'hashtags': [], 'symbols': [], 'user_mentions...</td>\n",
       "      <td>NaN</td>\n",
       "      <td>17623</td>\n",
       "      <td>False</td>\n",
       "      <td>None</td>\n",
       "      <td>1249735782572556290</td>\n",
       "      <td>1249735782572556290</td>\n",
       "      <td>...</td>\n",
       "      <td>NaN</td>\n",
       "      <td>NaN</td>\n",
       "      <td>3328</td>\n",
       "      <td>False</td>\n",
       "      <td>NaN</td>\n",
       "      <td>&lt;a href=\"http://twitter.com/download/android\" ...</td>\n",
       "      <td>- Pulverização aérea/Vale do Ribeira/bananicul...</td>\n",
       "      <td>True</td>\n",
       "      <td>{'id': 128372940, 'id_str': '128372940', 'name...</td>\n",
       "      <td>right</td>\n",
       "    </tr>\n",
       "    <tr>\n",
       "      <th>3</th>\n",
       "      <td>None</td>\n",
       "      <td>None</td>\n",
       "      <td>Mon Apr 13 14:30:40 +0000 2020</td>\n",
       "      <td>{'hashtags': [], 'symbols': [], 'user_mentions...</td>\n",
       "      <td>NaN</td>\n",
       "      <td>7505</td>\n",
       "      <td>False</td>\n",
       "      <td>None</td>\n",
       "      <td>1249706574135865344</td>\n",
       "      <td>1249706574135865344</td>\n",
       "      <td>...</td>\n",
       "      <td>NaN</td>\n",
       "      <td>NaN</td>\n",
       "      <td>601</td>\n",
       "      <td>False</td>\n",
       "      <td>NaN</td>\n",
       "      <td>&lt;a href=\"http://twitter.com/download/android\" ...</td>\n",
       "      <td>@AMendoncaAGU 🇧🇷</td>\n",
       "      <td>False</td>\n",
       "      <td>{'id': 128372940, 'id_str': '128372940', 'name...</td>\n",
       "      <td>right</td>\n",
       "    </tr>\n",
       "    <tr>\n",
       "      <th>4</th>\n",
       "      <td>None</td>\n",
       "      <td>None</td>\n",
       "      <td>Mon Apr 13 11:47:26 +0000 2020</td>\n",
       "      <td>{'hashtags': [], 'symbols': [], 'user_mentions...</td>\n",
       "      <td>NaN</td>\n",
       "      <td>18836</td>\n",
       "      <td>False</td>\n",
       "      <td>None</td>\n",
       "      <td>1249665496087236609</td>\n",
       "      <td>1249665496087236609</td>\n",
       "      <td>...</td>\n",
       "      <td>NaN</td>\n",
       "      <td>NaN</td>\n",
       "      <td>2959</td>\n",
       "      <td>False</td>\n",
       "      <td>NaN</td>\n",
       "      <td>&lt;a href=\"http://twitter.com/download/android\" ...</td>\n",
       "      <td>- Os membros da Comissão de Relações Econômica...</td>\n",
       "      <td>True</td>\n",
       "      <td>{'id': 128372940, 'id_str': '128372940', 'name...</td>\n",
       "      <td>right</td>\n",
       "    </tr>\n",
       "  </tbody>\n",
       "</table>\n",
       "<p>5 rows × 30 columns</p>\n",
       "</div>"
      ],
      "text/plain": [
       "  contributors coordinates                      created_at  \\\n",
       "0         None        None  Mon Apr 13 22:55:27 +0000 2020   \n",
       "1         None        None  Mon Apr 13 22:53:14 +0000 2020   \n",
       "2         None        None  Mon Apr 13 16:26:44 +0000 2020   \n",
       "3         None        None  Mon Apr 13 14:30:40 +0000 2020   \n",
       "4         None        None  Mon Apr 13 11:47:26 +0000 2020   \n",
       "\n",
       "                                            entities extended_entities  \\\n",
       "0  {'hashtags': [], 'symbols': [], 'user_mentions...               NaN   \n",
       "1  {'hashtags': [], 'symbols': [], 'user_mentions...               NaN   \n",
       "2  {'hashtags': [], 'symbols': [], 'user_mentions...               NaN   \n",
       "3  {'hashtags': [], 'symbols': [], 'user_mentions...               NaN   \n",
       "4  {'hashtags': [], 'symbols': [], 'user_mentions...               NaN   \n",
       "\n",
       "   favorite_count  favorited   geo                   id               id_str  \\\n",
       "0           14496      False  None  1249833606341591041  1249833606341591041   \n",
       "1           29539      False  None  1249833048205647874  1249833048205647874   \n",
       "2           17623      False  None  1249735782572556290  1249735782572556290   \n",
       "3            7505      False  None  1249706574135865344  1249706574135865344   \n",
       "4           18836      False  None  1249665496087236609  1249665496087236609   \n",
       "\n",
       "    ...    quoted_status_id  quoted_status_id_str retweet_count  retweeted  \\\n",
       "0   ...                 NaN                   NaN          2168      False   \n",
       "1   ...                 NaN                   NaN          5149      False   \n",
       "2   ...                 NaN                   NaN          3328      False   \n",
       "3   ...                 NaN                   NaN           601      False   \n",
       "4   ...                 NaN                   NaN          2959      False   \n",
       "\n",
       "  retweeted_status                                             source  \\\n",
       "0              NaN  <a href=\"http://twitter.com/download/android\" ...   \n",
       "1              NaN  <a href=\"http://twitter.com/download/android\" ...   \n",
       "2              NaN  <a href=\"http://twitter.com/download/android\" ...   \n",
       "3              NaN  <a href=\"http://twitter.com/download/android\" ...   \n",
       "4              NaN  <a href=\"http://twitter.com/download/android\" ...   \n",
       "\n",
       "                                                text truncated  \\\n",
       "0  Para dar mais agilidade às necessidades urgent...      True   \n",
       "1  O @govbr regularizou mais de 90.000 CPFs para ...      True   \n",
       "2  - Pulverização aérea/Vale do Ribeira/bananicul...      True   \n",
       "3                                   @AMendoncaAGU 🇧🇷     False   \n",
       "4  - Os membros da Comissão de Relações Econômica...      True   \n",
       "\n",
       "                                                user politics  \n",
       "0  {'id': 128372940, 'id_str': '128372940', 'name...    right  \n",
       "1  {'id': 128372940, 'id_str': '128372940', 'name...    right  \n",
       "2  {'id': 128372940, 'id_str': '128372940', 'name...    right  \n",
       "3  {'id': 128372940, 'id_str': '128372940', 'name...    right  \n",
       "4  {'id': 128372940, 'id_str': '128372940', 'name...    right  \n",
       "\n",
       "[5 rows x 30 columns]"
      ]
     },
     "execution_count": 193,
     "metadata": {},
     "output_type": "execute_result"
    }
   ],
   "source": [
    "rightist_df.head()"
   ]
  },
  {
   "cell_type": "code",
   "execution_count": 181,
   "metadata": {},
   "outputs": [],
   "source": [
    "# assign new column that indicate political stance\n",
    "rightist_df['politics'] = 'right'\n",
    "leftist_df['politics'] = 'left'"
   ]
  },
  {
   "cell_type": "code",
   "execution_count": 182,
   "metadata": {},
   "outputs": [],
   "source": [
    "right_model = rightist_df[['id','text','user','politics']]\n",
    "left_model = leftist_df[['id','text','user','politics']]"
   ]
  },
  {
   "cell_type": "code",
   "execution_count": 183,
   "metadata": {},
   "outputs": [
    {
     "data": {
      "text/plain": [
       "32131"
      ]
     },
     "execution_count": 183,
     "metadata": {},
     "output_type": "execute_result"
    }
   ],
   "source": [
    "len(left_model)"
   ]
  },
  {
   "cell_type": "code",
   "execution_count": 192,
   "metadata": {},
   "outputs": [],
   "source": [
    "from sklearn.model_selection import train_test_split\n",
    "# splitting testing and training data\n",
    "X_right = right_model['text']\n",
    "X_left = left_model['text']\n",
    "\n",
    "\n",
    "\n",
    "Y_right = right_model['politics']\n",
    "Y_left = left_model['politics']\n",
    "\n",
    "Y = pd.concat([Y_right,Y_left], ignore_index=True)\n",
    "\n",
    "X_right_train, X_right_test, Y_right_train, Y_right_test = train_test_split( X_right, Y_right, \n",
    "                                                                            test_size=0.2, random_state=0)\n",
    "    \n",
    "X_left_train, X_left_test, Y_left_train, Y_left_test = train_test_split( X_left, Y_left, \n",
    "                                                                        test_size=0.2, random_state=0)\n",
    "    \n",
    "X_train = pd.concat([X_right_train,X_left_train], ignore_index=True)\n",
    "X_test = pd.concat([X_right_test,X_left_test], ignore_index=True)\n",
    "Y_train = pd.concat([Y_right_train,Y_left_train], ignore_index=True)\n",
    "Y_test = pd.concat([Y_right_test,Y_left_test], ignore_index=True)"
   ]
  },
  {
   "cell_type": "code",
   "execution_count": 190,
   "metadata": {},
   "outputs": [
    {
     "data": {
      "text/plain": [
       "MultinomialNB(alpha=1.0, class_prior=None, fit_prior=True)"
      ]
     },
     "execution_count": 190,
     "metadata": {},
     "output_type": "execute_result"
    }
   ],
   "source": [
    "# bag-of-words method\n",
    "vectorizer = CountVectorizer()\n",
    "X_train_vect = vectorizer.fit_transform(X_train)\n",
    "\n",
    "tfidf_transformer = TfidfTransformer()\n",
    "X_train_tfidf = tfidf_transformer.fit_transform(X_train_vect)\n",
    "\n",
    "\n",
    "pol_model = MultinomialNB()\n",
    "pol_model.fit(X_train_tfidf, Y_train)\n"
   ]
  },
  {
   "cell_type": "code",
   "execution_count": 243,
   "metadata": {},
   "outputs": [],
   "source": [
    "X_test_vect = vectorizer.transform(X_test)\n",
    "X_test_tfidf = tfidf_transformer.transform(X_test_vect)\n",
    "\n",
    "predictions_80 = pol_model.predict(X_test_tfidf)\n",
    "Y_test_80 = Y_test"
   ]
  },
  {
   "cell_type": "code",
   "execution_count": 256,
   "metadata": {},
   "outputs": [
    {
     "name": "stdout",
     "output_type": "stream",
     "text": [
      "[[6212  215]\n",
      " [1962 3381]]\n",
      "['right' 'left' 'left' 'right' 'right']\n"
     ]
    }
   ],
   "source": [
    "matrix_80 = metrics.confusion_matrix(Y_test, predictions_80)\n",
    "print(matrix_80)\n",
    "print(predictions_80[0:5])"
   ]
  },
  {
   "cell_type": "code",
   "execution_count": 246,
   "metadata": {},
   "outputs": [
    {
     "name": "stdout",
     "output_type": "stream",
     "text": [
      "0.754753053637812 0.7830741779250574 0.8052085988614156 0.8150382327952421\n"
     ]
    }
   ],
   "source": [
    "acc_80 = np.mean(predictions_80 == Y_test)\n",
    "print(acc_20,acc_40,acc_60,acc_80)"
   ]
  },
  {
   "cell_type": "code",
   "execution_count": 248,
   "metadata": {},
   "outputs": [
    {
     "name": "stdout",
     "output_type": "stream",
     "text": [
      "[[24818   887]\n",
      " [10658 10712]]\n",
      "[[18653   626]\n",
      " [ 7033  8995]]\n",
      "[[12439   414]\n",
      " [ 4171  6514]]\n",
      "[[6212  215]\n",
      " [1962 3381]]\n"
     ]
    }
   ],
   "source": [
    "print(matrix_20)\n",
    "print(matrix_40)\n",
    "print(matrix_60)\n",
    "print(matrix_80)"
   ]
  },
  {
   "cell_type": "code",
   "execution_count": 225,
   "metadata": {},
   "outputs": [],
   "source": [
    "np.savetxt('predictions_20.csv',predictions_20, delimiter = ',',fmt='%s')"
   ]
  },
  {
   "cell_type": "code",
   "execution_count": 249,
   "metadata": {},
   "outputs": [
    {
     "name": "stdout",
     "output_type": "stream",
     "text": [
      "47075\n",
      "47075\n"
     ]
    }
   ],
   "source": [
    "print(len(predictions_20))\n",
    "print(len(Y_test_20))"
   ]
  },
  {
   "cell_type": "code",
   "execution_count": 254,
   "metadata": {},
   "outputs": [],
   "source": [
    "TP = 0\n",
    "TN = 0\n",
    "FP = 0\n",
    "FN = 0\n",
    "for i in range(0,len(predictions_20)):\n",
    "    if predictions_20[i] == 'right':\n",
    "        if Y_test_20[i] == 'right':\n",
    "            TP += 1\n",
    "        else:\n",
    "            FP += 1\n",
    "    else:\n",
    "        if Y_test_20[i] == 'right':\n",
    "            FN += 1\n",
    "        else:\n",
    "            TN += 1\n",
    "    "
   ]
  },
  {
   "cell_type": "code",
   "execution_count": 255,
   "metadata": {},
   "outputs": [
    {
     "name": "stdout",
     "output_type": "stream",
     "text": [
      "10712 10658 887 24818\n"
     ]
    }
   ],
   "source": [
    "print(TP,FN,FP,TN)"
   ]
  },
  {
   "cell_type": "markdown",
   "metadata": {},
   "source": [
    "# Hashtag Portion"
   ]
  },
  {
   "cell_type": "code",
   "execution_count": 119,
   "metadata": {},
   "outputs": [],
   "source": [
    "# read in tweets\n",
    "# remove retweets\n",
    "# preprocess text\n",
    "# vectorize text\n",
    "# get sentiment data\n",
    "# train political model --> could train with or without rt's"
   ]
  },
  {
   "cell_type": "code",
   "execution_count": 120,
   "metadata": {},
   "outputs": [],
   "source": [
    "left_hash_df_RT = pd.read_pickle(\"left_hashtags\")\n",
    "right_hash_df_RT = pd.read_pickle(\"right_hashtags\")"
   ]
  },
  {
   "cell_type": "code",
   "execution_count": 121,
   "metadata": {},
   "outputs": [
    {
     "name": "stdout",
     "output_type": "stream",
     "text": [
      "16949\n"
     ]
    }
   ],
   "source": [
    "print(len(left_hash_df_RT))"
   ]
  },
  {
   "cell_type": "code",
   "execution_count": 122,
   "metadata": {},
   "outputs": [],
   "source": [
    "left_hash_df = left_hash_df_RT[~left_hash_df_RT.text.str.startswith('RT')]"
   ]
  },
  {
   "cell_type": "code",
   "execution_count": 123,
   "metadata": {},
   "outputs": [
    {
     "name": "stdout",
     "output_type": "stream",
     "text": [
      "9955\n"
     ]
    }
   ],
   "source": [
    "print(len(left_hash_df))"
   ]
  },
  {
   "cell_type": "code",
   "execution_count": 124,
   "metadata": {},
   "outputs": [
    {
     "name": "stdout",
     "output_type": "stream",
     "text": [
      "22193\n",
      "13158\n"
     ]
    }
   ],
   "source": [
    "print(len(right_hash_df_RT))\n",
    "right_hash_df = right_hash_df_RT[~right_hash_df_RT.text.str.startswith('RT')]\n",
    "print(len(right_hash_df))"
   ]
  },
  {
   "cell_type": "code",
   "execution_count": 135,
   "metadata": {},
   "outputs": [],
   "source": [
    "# text preprocessing\n",
    "left_hash_df = left_hash_df.rename(columns={'text': 'tweet_text'})\n",
    "# text preprocessing\n",
    "left_hash_df['tweet_text'] = _remove_url(left_hash_df['tweet_text'])\n",
    "regex_pattern = '#[\\w]*'\n",
    "left_hash_df['tweet_text'] = _remove_regex(left_hash_df['tweet_text'], regex_pattern)\n",
    "regex_pattern = '@[\\w]*'\n",
    "left_hash_df['tweet_text'] = _remove_regex(left_hash_df['tweet_text'], regex_pattern)\n",
    "left_hash_df['tweet_text'] = _replace_emoticons(left_hash_df['tweet_text'], emoticon_list)\n",
    "\n",
    "left_hash_df['tweet_text'] = _tokenize_text(left_hash_df['tweet_text'])\n",
    "left_hash_df['tweet_text'] = _apply_standardization(left_hash_df['tweet_text'], std_list)\n",
    "left_hash_df['tweet_text'] = _remove_stopwords(left_hash_df['tweet_text'], stopword_list)\n",
    "left_hash_df['tweet_text'] = _apply_stemmer(left_hash_df['tweet_text'])\n",
    "left_hash_df['tweet_text'] = _untokenize_text(left_hash_df['tweet_text'])\n",
    "\n"
   ]
  },
  {
   "cell_type": "code",
   "execution_count": 136,
   "metadata": {},
   "outputs": [],
   "source": [
    "right_hash_df = right_hash_df.rename(columns={'text': 'tweet_text'})\n",
    "# text preprocessing\n",
    "right_hash_df['tweet_text'] = _remove_url(right_hash_df['tweet_text'])\n",
    "regex_pattern = '#[\\w]*'\n",
    "right_hash_df['tweet_text'] = _remove_regex(right_hash_df['tweet_text'], regex_pattern)\n",
    "regex_pattern = '@[\\w]*'\n",
    "right_hash_df['tweet_text'] = _remove_regex(right_hash_df['tweet_text'], regex_pattern)\n",
    "right_hash_df['tweet_text'] = _replace_emoticons(right_hash_df['tweet_text'], emoticon_list)\n",
    "\n",
    "right_hash_df['tweet_text'] = _tokenize_text(right_hash_df['tweet_text'])\n",
    "right_hash_df['tweet_text'] = _apply_standardization(right_hash_df['tweet_text'], std_list)\n",
    "right_hash_df['tweet_text'] = _remove_stopwords(right_hash_df['tweet_text'], stopword_list)\n",
    "right_hash_df['tweet_text'] = _apply_stemmer(right_hash_df['tweet_text'])\n",
    "right_hash_df['tweet_text'] = _untokenize_text(right_hash_df['tweet_text'])\n",
    "\n"
   ]
  },
  {
   "cell_type": "code",
   "execution_count": 138,
   "metadata": {},
   "outputs": [],
   "source": [
    "# Frequency Distribution on training dataset\n",
    "left_hash_tokens = _tokenize_text(left_hash_df['tweet_text'])\n",
    "fd_list = _get_freq_dist_list(left_hash_tokens)\n",
    "fdist = FreqDist(fd_list)"
   ]
  },
  {
   "cell_type": "code",
   "execution_count": 139,
   "metadata": {},
   "outputs": [
    {
     "data": {
      "image/png": "[encoded data removed]",
      "text/plain": [
       "<Figure size 432x288 with 1 Axes>"
      ]
     },
     "metadata": {
      "needs_background": "light"
     },
     "output_type": "display_data"
    },
    {
     "data": {
      "text/plain": [
       "<Figure size 432x288 with 0 Axes>"
      ]
     },
     "metadata": {},
     "output_type": "display_data"
    }
   ],
   "source": [
    "most_common = fdist.most_common(25)\n",
    "most_common = most_common[5:25]\n",
    "series = pd.Series(data=[v for k, v in most_common], index=[k for k, v in most_common], name='')\n",
    "ax = series.plot(kind='bar', title='Frequency Distribution', color = ['blue'])\n",
    "ax.set_xlabel('Word')\n",
    "ax.set_ylabel('Count')\n",
    "plt.show()\n",
    "plt.savefig('left_hash_wordfreq')"
   ]
  },
  {
   "cell_type": "code",
   "execution_count": 140,
   "metadata": {},
   "outputs": [
    {
     "data": {
      "image/png": "[encoded data removed]",
      "text/plain": [
       "<Figure size 432x288 with 1 Axes>"
      ]
     },
     "metadata": {
      "needs_background": "light"
     },
     "output_type": "display_data"
    },
    {
     "data": {
      "text/plain": [
       "<Figure size 432x288 with 0 Axes>"
      ]
     },
     "metadata": {},
     "output_type": "display_data"
    }
   ],
   "source": [
    "# Frequency Distribution on training dataset\n",
    "right_hash_tokens = _tokenize_text(right_hash_df['tweet_text'])\n",
    "fd_list = _get_freq_dist_list(right_hash_tokens)\n",
    "fdist = FreqDist(fd_list)\n",
    "\n",
    "most_common = fdist.most_common(25)\n",
    "most_common = most_common[4:25]\n",
    "series = pd.Series(data=[v for k, v in most_common], index=[k for k, v in most_common], name='')\n",
    "ax = series.plot(kind='bar', title='Frequency Distribution', color = ['red'])\n",
    "ax.set_xlabel('Word')\n",
    "ax.set_ylabel('Count')\n",
    "plt.show()\n",
    "plt.savefig('right_hash_wordfreq')"
   ]
  },
  {
   "cell_type": "code",
   "execution_count": 141,
   "metadata": {},
   "outputs": [
    {
     "name": "stdout",
     "output_type": "stream",
     "text": [
      "10526\n",
      "7964\n"
     ]
    }
   ],
   "source": [
    "from sklearn.model_selection import train_test_split\n",
    "# splitting testing and training data\n",
    "X_right_hash = right_hash_df['tweet_text']\n",
    "X_left_hash = left_hash_df['tweet_text']\n",
    "\n",
    "right_hash_df['politics'] = 'right'\n",
    "left_hash_df['politics'] = 'left'\n",
    "\n",
    "Y_right_hash = right_hash_df['politics']\n",
    "Y_left_hash = left_hash_df['politics']\n",
    "\n",
    "Y_hash = pd.concat([Y_right_hash,Y_left_hash], ignore_index=True)\n",
    "\n",
    "X_right_hash_train, X_right_hash_test, Y_right_hash_train, Y_right_hash_test = train_test_split( X_right_hash, Y_right_hash, \n",
    "                                                                            test_size=0.2, random_state=0)\n",
    "    \n",
    "X_left_hash_train, X_left_hash_test, Y_left_hash_train, Y_left_hash_test = train_test_split( X_left_hash, Y_left_hash, \n",
    "                                                                        test_size=0.2, random_state=0)\n",
    "\n",
    "print(len(X_right_hash_train))\n",
    "print(len(X_left_hash_train))\n",
    "X_hash_train = pd.concat([X_right_hash_train,X_left_hash_train], ignore_index=True)\n",
    "X_hash_test = pd.concat([X_right_hash_test,X_left_hash_test], ignore_index=True)\n",
    "Y_hash_train = pd.concat([Y_right_hash_train,Y_left_hash_train], ignore_index=True)\n",
    "Y_hash_test = pd.concat([Y_right_hash_test,Y_left_hash_test], ignore_index=True)\n",
    "\n",
    "#vectorizer = CountVectorizer()\n",
    "#X_hash_train_vect = vectorizer.transform(X_hash_train)\n",
    "#tfidf_transformer = TfidfTransformer()\n",
    "#X_hash_train_tfidf = tfidf_transformer.fit_transform(X_hash_train_vect)"
   ]
  },
  {
   "cell_type": "code",
   "execution_count": 142,
   "metadata": {},
   "outputs": [],
   "source": [
    "# sent analyzer\n",
    "right_hash_sent_vect = vectorizer.transform(X_right_hash)\n",
    "right_hash_sent_tfidf = tfidf_transformer.transform(right_hash_sent_vect)\n",
    "right_hash_sent_pred = model.predict(right_hash_sent_tfidf)"
   ]
  },
  {
   "cell_type": "code",
   "execution_count": 144,
   "metadata": {},
   "outputs": [
    {
     "name": "stdout",
     "output_type": "stream",
     "text": [
      "['Positive' 'Neutral' 'Neutral' 'Neutral' 'Positive' 'Negative' 'Positive'\n",
      " 'Positive' 'Positive' 'Positive']\n"
     ]
    }
   ],
   "source": [
    "print(right_hash_sent_pred[0:10])"
   ]
  },
  {
   "cell_type": "code",
   "execution_count": 145,
   "metadata": {},
   "outputs": [],
   "source": [
    "# sent analyzer\n",
    "left_hash_sent_vect = vectorizer.transform(X_left_hash)\n",
    "left_hash_sent_tfidf = tfidf_transformer.transform(left_hash_sent_vect)\n",
    "left_hash_sent_pred = model.predict(left_hash_sent_tfidf)"
   ]
  },
  {
   "cell_type": "code",
   "execution_count": 175,
   "metadata": {},
   "outputs": [
    {
     "data": {
      "image/png": "[encoded data removed]",
      "text/plain": [
       "<Figure size 432x288 with 1 Axes>"
      ]
     },
     "metadata": {
      "needs_background": "light"
     },
     "output_type": "display_data"
    }
   ],
   "source": [
    "unique, counts = numpy.unique(left_hash_sent_pred, return_counts=True)\n",
    "left_hash_sent = dict(zip(unique, counts))\n",
    "keys = left_hash_sent.keys()\n",
    "values = left_hash_sent.values()\n",
    "plot.bar(keys, values, color = ['blue','blue','blue'])\n",
    "plot.title('Leftist Hashtag Tweet Sentiments')\n",
    "plot.xlabel('Sentiment')\n",
    "plot.ylabel('Count')\n",
    "plot.ylim(bottom = 0, top = 10000)\n",
    "plot.savefig('left_hash_sentiment.png')"
   ]
  },
  {
   "cell_type": "code",
   "execution_count": 177,
   "metadata": {},
   "outputs": [
    {
     "data": {
      "image/png": "[encoded data removed]",
      "text/plain": [
       "<Figure size 432x288 with 1 Axes>"
      ]
     },
     "metadata": {
      "needs_background": "light"
     },
     "output_type": "display_data"
    }
   ],
   "source": [
    "unique, counts = numpy.unique(right_hash_sent_pred, return_counts=True)\n",
    "right_hash_sent = dict(zip(unique, counts))\n",
    "keys = right_hash_sent.keys()\n",
    "values = right_hash_sent.values()\n",
    "plot.bar(keys, values, color = ['red','red','red'])\n",
    "plot.title('Rightist Hashtag Tweet Sentiments')\n",
    "plot.xlabel('Sentiment')\n",
    "plot.ylabel('Count')\n",
    "plot.ylim(bottom = 0, top = 10000)\n",
    "plot.savefig('right_hash_sentiment.png')"
   ]
  },
  {
   "cell_type": "code",
   "execution_count": 178,
   "metadata": {},
   "outputs": [
    {
     "name": "stdout",
     "output_type": "stream",
     "text": [
      "0.8114835081319349\n",
      "0.09969102697585046\n"
     ]
    }
   ],
   "source": [
    "import math\n",
    "# neg = 0, neutral = 0.5, pos = 1\n",
    "tot_tweets = sum(right_hash_sent.values())\n",
    "right_mean = ((right_hash_sent['Neutral']*0.5) + (right_hash_sent['Positive']*1)) / tot_tweets\n",
    "right_std = ((right_hash_sent['Negative']*math.pow((0-right_mean),2)) + \n",
    "            (right_hash_sent['Neutral']*math.pow((0.5-right_mean),2)) +\n",
    "            (right_hash_sent['Positive']*math.pow((1-right_mean),2))) / (tot_tweets - 1)\n",
    "\n",
    "print(right_mean)  \n",
    "print(right_std) "
   ]
  },
  {
   "cell_type": "code",
   "execution_count": 179,
   "metadata": {},
   "outputs": [
    {
     "name": "stdout",
     "output_type": "stream",
     "text": [
      "0.7038171772978403\n",
      "0.13808066578889713\n"
     ]
    }
   ],
   "source": [
    "# neg = 0, neutral = 0.5, pos = 1\n",
    "tot_tweets = sum(left_hash_sent.values())\n",
    "left_mean = ((left_hash_sent['Neutral']*0.5) + (left_hash_sent['Positive']*1)) / tot_tweets\n",
    "left_std = ((left_hash_sent['Negative']*math.pow((0-left_mean),2)) + \n",
    "            (left_hash_sent['Neutral']*math.pow((0.5-left_mean),2)) +\n",
    "            (left_hash_sent['Positive']*math.pow((1-left_mean),2))) / (tot_tweets - 1)\n",
    "\n",
    "print(left_mean)  \n",
    "print(left_std) "
   ]
  },
  {
   "cell_type": "code",
   "execution_count": 204,
   "metadata": {},
   "outputs": [
    {
     "name": "stdout",
     "output_type": "stream",
     "text": [
      "{'Negative': 1547, 'Neutral': 2803, 'Positive': 5605}\n",
      "{'Negative': 1078, 'Neutral': 2805, 'Positive': 9275}\n"
     ]
    }
   ],
   "source": [
    "print(left_hash_sent)\n",
    "print(right_hash_sent)"
   ]
  },
  {
   "cell_type": "markdown",
   "metadata": {},
   "source": [
    "## Models for predicting political stance"
   ]
  },
  {
   "cell_type": "code",
   "execution_count": 185,
   "metadata": {},
   "outputs": [
    {
     "data": {
      "text/plain": [
       "MultinomialNB(alpha=1.0, class_prior=None, fit_prior=True)"
      ]
     },
     "execution_count": 185,
     "metadata": {},
     "output_type": "execute_result"
    }
   ],
   "source": [
    "# bag-of-words method\n",
    "vectorizer = CountVectorizer()\n",
    "X_hash_train_vect = vectorizer.fit_transform(X_hash_train)\n",
    "\n",
    "tfidf_transformer = TfidfTransformer()\n",
    "X_hash_train_tfidf = tfidf_transformer.fit_transform(X_hash_train_vect)\n",
    "\n",
    "\n",
    "com_model = MultinomialNB()\n",
    "com_model.fit(X_hash_train_tfidf, Y_hash_train)"
   ]
  },
  {
   "cell_type": "code",
   "execution_count": null,
   "metadata": {},
   "outputs": [],
   "source": [
    "# trained: hashtag test: hashtag 80/20 split"
   ]
  },
  {
   "cell_type": "code",
   "execution_count": 186,
   "metadata": {},
   "outputs": [],
   "source": [
    "X_hash_test_vect = vectorizer.transform(X_hash_test)\n",
    "X_hash_test_tfidf = tfidf_transformer.transform(X_hash_test_vect)\n",
    "\n",
    "predictions_hash_80 = com_model.predict(X_hash_test_tfidf)\n",
    "Y_hash_test_80 = Y_hash_test"
   ]
  },
  {
   "cell_type": "code",
   "execution_count": 187,
   "metadata": {},
   "outputs": [
    {
     "name": "stdout",
     "output_type": "stream",
     "text": [
      "[[1102  889]\n",
      " [ 138 2494]]\n",
      "['right' 'left' 'left' 'right' 'left']\n"
     ]
    }
   ],
   "source": [
    "matrix_hash_80 = metrics.confusion_matrix(Y_hash_test, predictions_hash_80)\n",
    "print(matrix_hash_80)\n",
    "print(predictions_hash_80[0:5])"
   ]
  },
  {
   "cell_type": "code",
   "execution_count": 188,
   "metadata": {},
   "outputs": [
    {
     "name": "stdout",
     "output_type": "stream",
     "text": [
      "0.7778498810296345\n"
     ]
    }
   ],
   "source": [
    "acc_hash_80 = np.mean(predictions_hash_80 == Y_hash_test)\n",
    "print(acc_hash_80)"
   ]
  },
  {
   "cell_type": "markdown",
   "metadata": {},
   "source": [
    "### trained: politicians test hashtag 100:100 full sets"
   ]
  },
  {
   "cell_type": "code",
   "execution_count": 194,
   "metadata": {},
   "outputs": [
    {
     "data": {
      "text/plain": [
       "MultinomialNB(alpha=1.0, class_prior=None, fit_prior=True)"
      ]
     },
     "execution_count": 194,
     "metadata": {},
     "output_type": "execute_result"
    }
   ],
   "source": [
    "# bag-of-words method\n",
    "X_train100 = pd.concat([X_train,X_test], ignore_index=True)\n",
    "Y_train100 = pd.concat([Y_train,Y_test], ignore_index=True)\n",
    "\n",
    "vectorizer = CountVectorizer()\n",
    "X_train100_vect = vectorizer.fit_transform(X_train100)\n",
    "\n",
    "tfidf_transformer = TfidfTransformer()\n",
    "X_train100_tfidf = tfidf_transformer.fit_transform(X_train100_vect)\n",
    "\n",
    "\n",
    "pol_model = MultinomialNB()\n",
    "pol_model.fit(X_train100_tfidf, Y_train100)"
   ]
  },
  {
   "cell_type": "code",
   "execution_count": 195,
   "metadata": {},
   "outputs": [],
   "source": [
    "X_hash100 = pd.concat([X_hash_train,X_hash_test], ignore_index=True)\n",
    "Y_hash100 = pd.concat([Y_hash_train,Y_hash_test], ignore_index=True)\n",
    "\n",
    "X_hash100_vect = vectorizer.transform(X_hash100)\n",
    "X_hash100_tfidf = tfidf_transformer.transform(X_hash100_vect)\n",
    "\n",
    "predictions_pol_com_100 = pol_model.predict(X_hash100_tfidf)"
   ]
  },
  {
   "cell_type": "code",
   "execution_count": 197,
   "metadata": {},
   "outputs": [
    {
     "name": "stdout",
     "output_type": "stream",
     "text": [
      "[[ 8338  1617]\n",
      " [11930  1228]]\n",
      "['left' 'left' 'left' 'left' 'right']\n"
     ]
    }
   ],
   "source": [
    "matrix_pol_com = metrics.confusion_matrix(Y_hash100, predictions_pol_com_100)\n",
    "print(matrix_pol_com)\n",
    "print(predictions_pol_com_100[0:5])"
   ]
  },
  {
   "cell_type": "code",
   "execution_count": 198,
   "metadata": {},
   "outputs": [
    {
     "name": "stdout",
     "output_type": "stream",
     "text": [
      "0.4138796348375373\n"
     ]
    }
   ],
   "source": [
    "acc_pol_com_100 = np.mean(predictions_pol_com_100 == Y_hash100)\n",
    "print(acc_pol_com_100)"
   ]
  },
  {
   "cell_type": "markdown",
   "metadata": {},
   "source": [
    "### trained: common test: politicians 100:100"
   ]
  },
  {
   "cell_type": "code",
   "execution_count": 200,
   "metadata": {},
   "outputs": [
    {
     "data": {
      "text/plain": [
       "MultinomialNB(alpha=1.0, class_prior=None, fit_prior=True)"
      ]
     },
     "execution_count": 200,
     "metadata": {},
     "output_type": "execute_result"
    }
   ],
   "source": [
    "vectorizer = CountVectorizer()\n",
    "X_hash100_vect = vectorizer.fit_transform(X_hash100)\n",
    "\n",
    "tfidf_transformer = TfidfTransformer()\n",
    "X_hash100_tfidf = tfidf_transformer.fit_transform(X_hash100_vect)\n",
    "\n",
    "com100_model = MultinomialNB()\n",
    "com100_model.fit(X_hash100_tfidf, Y_hash100)"
   ]
  },
  {
   "cell_type": "code",
   "execution_count": 201,
   "metadata": {},
   "outputs": [],
   "source": [
    "\n",
    "\n",
    "X_train100_vect = vectorizer.transform(X_train100)\n",
    "X_train100_tfidf = tfidf_transformer.transform(X_train100_vect)\n",
    "\n",
    "predictions_com_pol_100 = com100_model.predict(X_train100_tfidf)"
   ]
  },
  {
   "cell_type": "code",
   "execution_count": 202,
   "metadata": {},
   "outputs": [
    {
     "name": "stdout",
     "output_type": "stream",
     "text": [
      "[[11408 20723]\n",
      " [ 8354 18358]]\n",
      "['right' 'right' 'right' 'left' 'left']\n"
     ]
    }
   ],
   "source": [
    "matrix_com_pol = metrics.confusion_matrix(Y_train100, predictions_com_pol_100)\n",
    "print(matrix_com_pol)\n",
    "print(predictions_com_pol_100[0:5])"
   ]
  },
  {
   "cell_type": "code",
   "execution_count": 203,
   "metadata": {},
   "outputs": [
    {
     "name": "stdout",
     "output_type": "stream",
     "text": [
      "0.5058545621399316\n"
     ]
    }
   ],
   "source": [
    "acc_com_pol_100 = np.mean(predictions_com_pol_100 == Y_train100)\n",
    "print(acc_com_pol_100)"
   ]
  },
  {
   "cell_type": "code",
   "execution_count": 208,
   "metadata": {},
   "outputs": [
    {
     "data": {
      "text/plain": [
       "26712"
      ]
     },
     "execution_count": 208,
     "metadata": {},
     "output_type": "execute_result"
    }
   ],
   "source": []
  },
  {
   "cell_type": "markdown",
   "metadata": {},
   "source": [
    "### Train: mixed Test: mixed"
   ]
  },
  {
   "cell_type": "code",
   "execution_count": 209,
   "metadata": {},
   "outputs": [],
   "source": [
    "X_mix_right = pd.concat([X_right_hash,X_right], ignore_index=True)"
   ]
  },
  {
   "cell_type": "code",
   "execution_count": 210,
   "metadata": {},
   "outputs": [],
   "source": [
    "Y_mix_right = pd.concat([Y_right_hash,Y_right], ignore_index=True)"
   ]
  },
  {
   "cell_type": "code",
   "execution_count": 215,
   "metadata": {},
   "outputs": [],
   "source": [
    "X_mix_left = pd.concat([X_left_hash,X_left], ignore_index=True)\n",
    "Y_mix_left = pd.concat([Y_left_hash,Y_left], ignore_index=True)"
   ]
  },
  {
   "cell_type": "code",
   "execution_count": 216,
   "metadata": {},
   "outputs": [
    {
     "name": "stdout",
     "output_type": "stream",
     "text": [
      "42086\n",
      "42086\n",
      "39870\n",
      "39870\n"
     ]
    }
   ],
   "source": [
    "print(len(X_mix_left))\n",
    "print(len(Y_mix_left))\n",
    "print(len(X_mix_right))\n",
    "print(len(Y_mix_right))"
   ]
  },
  {
   "cell_type": "code",
   "execution_count": 239,
   "metadata": {},
   "outputs": [],
   "source": [
    "X_mix_right_train, X_mix_right_test, Y_mix_right_train, Y_mix_right_test = train_test_split( X_mix_right, Y_mix_right, \n",
    "                                                                            test_size=0.4, random_state=0)\n",
    "    \n",
    "X_mix_left_train, X_mix_left_test, Y_mix_left_train, Y_mix_left_test = train_test_split( X_mix_left, Y_mix_left, \n",
    "                                                                        test_size=0.4, random_state=0)"
   ]
  },
  {
   "cell_type": "code",
   "execution_count": 229,
   "metadata": {},
   "outputs": [],
   "source": [
    "X_mix_train = pd.concat([X_mix_right_train,X_mix_left_train], ignore_index=True)\n",
    "X_mix_test = pd.concat([X_mix_right_test,X_mix_left_test], ignore_index=True)\n",
    "Y_mix_train = pd.concat([Y_mix_right_train,Y_mix_left_train], ignore_index=True)\n",
    "Y_mix_test = pd.concat([Y_mix_right_test,Y_mix_left_test], ignore_index=True)"
   ]
  },
  {
   "cell_type": "code",
   "execution_count": 230,
   "metadata": {},
   "outputs": [],
   "source": [
    "vectorizer = CountVectorizer()\n",
    "X_mix_train_vect = vectorizer.fit_transform(X_mix_train)\n",
    "tfidf_transformer = TfidfTransformer()\n",
    "X_mix_train_tfidf = tfidf_transformer.fit_transform(X_mix_train_vect)"
   ]
  },
  {
   "cell_type": "code",
   "execution_count": 231,
   "metadata": {},
   "outputs": [
    {
     "data": {
      "text/plain": [
       "MultinomialNB(alpha=1.0, class_prior=None, fit_prior=True)"
      ]
     },
     "execution_count": 231,
     "metadata": {},
     "output_type": "execute_result"
    }
   ],
   "source": [
    "mix_model = MultinomialNB()\n",
    "mix_model.fit(X_mix_train_tfidf, Y_mix_train)"
   ]
  },
  {
   "cell_type": "code",
   "execution_count": 232,
   "metadata": {},
   "outputs": [],
   "source": [
    "X_mix_test_vect = vectorizer.transform(X_mix_test)\n",
    "X_mix_test_tfidf = tfidf_transformer.transform(X_mix_test_vect)\n",
    "\n",
    "predictions_mix = mix_model.predict(X_mix_test_tfidf)\n",
    "#80/20"
   ]
  },
  {
   "cell_type": "code",
   "execution_count": 233,
   "metadata": {},
   "outputs": [
    {
     "name": "stdout",
     "output_type": "stream",
     "text": [
      "[[7890  528]\n",
      " [3487 4487]]\n",
      "['left' 'left' 'right' 'right' 'right']\n"
     ]
    }
   ],
   "source": [
    "matrix_mix = metrics.confusion_matrix(Y_mix_test, predictions_mix)\n",
    "print(matrix_mix)\n",
    "print(predictions_mix[0:5])"
   ]
  },
  {
   "cell_type": "code",
   "execution_count": 234,
   "metadata": {},
   "outputs": [
    {
     "name": "stdout",
     "output_type": "stream",
     "text": [
      "0.7550634455832114\n"
     ]
    }
   ],
   "source": [
    "acc_mix = np.mean(predictions_mix == Y_mix_test)\n",
    "print(acc_mix)"
   ]
  },
  {
   "cell_type": "code",
   "execution_count": 236,
   "metadata": {},
   "outputs": [
    {
     "name": "stdout",
     "output_type": "stream",
     "text": [
      "[[31257  2412]\n",
      " [16452 15444]]\n",
      "['right' 'left' 'right' 'left' 'right']\n",
      "0.7122855181880576\n"
     ]
    }
   ],
   "source": [
    "X_mix_train = pd.concat([X_mix_right_train,X_mix_left_train], ignore_index=True)\n",
    "X_mix_test = pd.concat([X_mix_right_test,X_mix_left_test], ignore_index=True)\n",
    "Y_mix_train = pd.concat([Y_mix_right_train,Y_mix_left_train], ignore_index=True)\n",
    "Y_mix_test = pd.concat([Y_mix_right_test,Y_mix_left_test], ignore_index=True)\n",
    "vectorizer = CountVectorizer()\n",
    "X_mix_train_vect = vectorizer.fit_transform(X_mix_train)\n",
    "tfidf_transformer = TfidfTransformer()\n",
    "X_mix_train_tfidf = tfidf_transformer.fit_transform(X_mix_train_vect)\n",
    "mix_model = MultinomialNB()\n",
    "mix_model.fit(X_mix_train_tfidf, Y_mix_train)\n",
    "X_mix_test_vect = vectorizer.transform(X_mix_test)\n",
    "X_mix_test_tfidf = tfidf_transformer.transform(X_mix_test_vect)\n",
    "\n",
    "predictions_mix = mix_model.predict(X_mix_test_tfidf)\n",
    "matrix_mix = metrics.confusion_matrix(Y_mix_test, predictions_mix)\n",
    "print(matrix_mix)\n",
    "print(predictions_mix[0:5])\n",
    "acc_mix = np.mean(predictions_mix == Y_mix_test)\n",
    "print(acc_mix)\n",
    "#20/80"
   ]
  },
  {
   "cell_type": "code",
   "execution_count": 238,
   "metadata": {},
   "outputs": [
    {
     "name": "stdout",
     "output_type": "stream",
     "text": [
      "[[23583  1669]\n",
      " [11228 12694]]\n",
      "['left' 'left' 'right' 'left' 'right']\n",
      "0.7377272542400456\n"
     ]
    }
   ],
   "source": [
    "X_mix_train = pd.concat([X_mix_right_train,X_mix_left_train], ignore_index=True)\n",
    "X_mix_test = pd.concat([X_mix_right_test,X_mix_left_test], ignore_index=True)\n",
    "Y_mix_train = pd.concat([Y_mix_right_train,Y_mix_left_train], ignore_index=True)\n",
    "Y_mix_test = pd.concat([Y_mix_right_test,Y_mix_left_test], ignore_index=True)\n",
    "vectorizer = CountVectorizer()\n",
    "X_mix_train_vect = vectorizer.fit_transform(X_mix_train)\n",
    "tfidf_transformer = TfidfTransformer()\n",
    "X_mix_train_tfidf = tfidf_transformer.fit_transform(X_mix_train_vect)\n",
    "mix_model = MultinomialNB()\n",
    "mix_model.fit(X_mix_train_tfidf, Y_mix_train)\n",
    "X_mix_test_vect = vectorizer.transform(X_mix_test)\n",
    "X_mix_test_tfidf = tfidf_transformer.transform(X_mix_test_vect)\n",
    "\n",
    "predictions_mix = mix_model.predict(X_mix_test_tfidf)\n",
    "matrix_mix = metrics.confusion_matrix(Y_mix_test, predictions_mix)\n",
    "print(matrix_mix)\n",
    "print(predictions_mix[0:5])\n",
    "acc_mix = np.mean(predictions_mix == Y_mix_test)\n",
    "print(acc_mix)\n",
    "#40/60"
   ]
  },
  {
   "cell_type": "code",
   "execution_count": 240,
   "metadata": {},
   "outputs": [
    {
     "name": "stdout",
     "output_type": "stream",
     "text": [
      "[[15761  1074]\n",
      " [ 7127  8821]]\n",
      "['left' 'left' 'right' 'left' 'right']\n",
      "0.7498398560229387\n"
     ]
    }
   ],
   "source": [
    "X_mix_train = pd.concat([X_mix_right_train,X_mix_left_train], ignore_index=True)\n",
    "X_mix_test = pd.concat([X_mix_right_test,X_mix_left_test], ignore_index=True)\n",
    "Y_mix_train = pd.concat([Y_mix_right_train,Y_mix_left_train], ignore_index=True)\n",
    "Y_mix_test = pd.concat([Y_mix_right_test,Y_mix_left_test], ignore_index=True)\n",
    "vectorizer = CountVectorizer()\n",
    "X_mix_train_vect = vectorizer.fit_transform(X_mix_train)\n",
    "tfidf_transformer = TfidfTransformer()\n",
    "X_mix_train_tfidf = tfidf_transformer.fit_transform(X_mix_train_vect)\n",
    "mix_model = MultinomialNB()\n",
    "mix_model.fit(X_mix_train_tfidf, Y_mix_train)\n",
    "X_mix_test_vect = vectorizer.transform(X_mix_test)\n",
    "X_mix_test_tfidf = tfidf_transformer.transform(X_mix_test_vect)\n",
    "\n",
    "predictions_mix = mix_model.predict(X_mix_test_tfidf)\n",
    "matrix_mix = metrics.confusion_matrix(Y_mix_test, predictions_mix)\n",
    "print(matrix_mix)\n",
    "print(predictions_mix[0:5])\n",
    "acc_mix = np.mean(predictions_mix == Y_mix_test)\n",
    "print(acc_mix)\n",
    "#60/40"
   ]
  },
  {
   "cell_type": "code",
   "execution_count": 253,
   "metadata": {},
   "outputs": [
    {
     "data": {
      "text/html": [
       "<div>\n",
       "<style scoped>\n",
       "    .dataframe tbody tr th:only-of-type {\n",
       "        vertical-align: middle;\n",
       "    }\n",
       "\n",
       "    .dataframe tbody tr th {\n",
       "        vertical-align: top;\n",
       "    }\n",
       "\n",
       "    .dataframe thead th {\n",
       "        text-align: right;\n",
       "    }\n",
       "</style>\n",
       "<table border=\"1\" class=\"dataframe\">\n",
       "  <thead>\n",
       "    <tr style=\"text-align: right;\">\n",
       "      <th></th>\n",
       "      <th>#LulaInocente</th>\n",
       "      <th>#LulaLivre</th>\n",
       "      <th>#LulaMelhorPresidente</th>\n",
       "      <th>#bolsonarofora</th>\n",
       "      <th>#bolsonarovaicair</th>\n",
       "      <th>contributors</th>\n",
       "      <th>coordinates</th>\n",
       "      <th>created_at</th>\n",
       "      <th>entities</th>\n",
       "      <th>extended_entities</th>\n",
       "      <th>...</th>\n",
       "      <th>quoted_status_id</th>\n",
       "      <th>quoted_status_id_str</th>\n",
       "      <th>retweet_count</th>\n",
       "      <th>retweeted</th>\n",
       "      <th>retweeted_status</th>\n",
       "      <th>source</th>\n",
       "      <th>tweet_text</th>\n",
       "      <th>truncated</th>\n",
       "      <th>user</th>\n",
       "      <th>politics</th>\n",
       "    </tr>\n",
       "  </thead>\n",
       "  <tbody>\n",
       "    <tr>\n",
       "      <th>0</th>\n",
       "      <td>NaN</td>\n",
       "      <td>NaN</td>\n",
       "      <td>NaN</td>\n",
       "      <td>NaN</td>\n",
       "      <td>NaN</td>\n",
       "      <td>None</td>\n",
       "      <td>None</td>\n",
       "      <td>Mon May 04 07:17:08 +0000 2020</td>\n",
       "      <td>{'hashtags': [{'text': 'midianinja', 'indices'...</td>\n",
       "      <td>NaN</td>\n",
       "      <td>...</td>\n",
       "      <td>NaN</td>\n",
       "      <td>NaN</td>\n",
       "      <td>0.0</td>\n",
       "      <td>False</td>\n",
       "      <td>NaN</td>\n",
       "      <td>&lt;a href=\"http://twitter.com/download/android\" ...</td>\n",
       "      <td>\" aí pod dur , porqu nad .\" …</td>\n",
       "      <td>True</td>\n",
       "      <td>{'id': 35885675, 'id_str': '35885675', 'name':...</td>\n",
       "      <td>left</td>\n",
       "    </tr>\n",
       "    <tr>\n",
       "      <th>1</th>\n",
       "      <td>NaN</td>\n",
       "      <td>NaN</td>\n",
       "      <td>NaN</td>\n",
       "      <td>NaN</td>\n",
       "      <td>NaN</td>\n",
       "      <td>None</td>\n",
       "      <td>None</td>\n",
       "      <td>Mon May 04 06:35:59 +0000 2020</td>\n",
       "      <td>{'hashtags': [{'text': 'Lulalivre', 'indices':...</td>\n",
       "      <td>NaN</td>\n",
       "      <td>...</td>\n",
       "      <td>NaN</td>\n",
       "      <td>NaN</td>\n",
       "      <td>0.0</td>\n",
       "      <td>False</td>\n",
       "      <td>NaN</td>\n",
       "      <td>&lt;a href=\"http://twitter.com/download/iphone\" r...</td>\n",
       "      <td>nad quer ! sempr busc crít constru . lembr man...</td>\n",
       "      <td>False</td>\n",
       "      <td>{'id': 1128405662776602624, 'id_str': '1128405...</td>\n",
       "      <td>left</td>\n",
       "    </tr>\n",
       "    <tr>\n",
       "      <th>2</th>\n",
       "      <td>NaN</td>\n",
       "      <td>NaN</td>\n",
       "      <td>NaN</td>\n",
       "      <td>NaN</td>\n",
       "      <td>NaN</td>\n",
       "      <td>None</td>\n",
       "      <td>None</td>\n",
       "      <td>Mon May 04 06:27:45 +0000 2020</td>\n",
       "      <td>{'hashtags': [{'text': 'LulaLivre', 'indices':...</td>\n",
       "      <td>NaN</td>\n",
       "      <td>...</td>\n",
       "      <td>NaN</td>\n",
       "      <td>NaN</td>\n",
       "      <td>0.0</td>\n",
       "      <td>False</td>\n",
       "      <td>NaN</td>\n",
       "      <td>&lt;a href=\"http://twitter.com/download/iphone\" r...</td>\n",
       "      <td>kkkkkkkkkkkk ah mand</td>\n",
       "      <td>False</td>\n",
       "      <td>{'id': 982739905964134400, 'id_str': '98273990...</td>\n",
       "      <td>left</td>\n",
       "    </tr>\n",
       "    <tr>\n",
       "      <th>3</th>\n",
       "      <td>NaN</td>\n",
       "      <td>NaN</td>\n",
       "      <td>NaN</td>\n",
       "      <td>NaN</td>\n",
       "      <td>NaN</td>\n",
       "      <td>None</td>\n",
       "      <td>None</td>\n",
       "      <td>Mon May 04 06:01:06 +0000 2020</td>\n",
       "      <td>{'hashtags': [{'text': 'LulaLivre', 'indices':...</td>\n",
       "      <td>NaN</td>\n",
       "      <td>...</td>\n",
       "      <td>NaN</td>\n",
       "      <td>NaN</td>\n",
       "      <td>0.0</td>\n",
       "      <td>False</td>\n",
       "      <td>NaN</td>\n",
       "      <td>&lt;a href=\"http://twitter.com/download/android\" ...</td>\n",
       "      <td>pri twitt conseg verific ent 🤔</td>\n",
       "      <td>False</td>\n",
       "      <td>{'id': 1220467616357191680, 'id_str': '1220467...</td>\n",
       "      <td>left</td>\n",
       "    </tr>\n",
       "    <tr>\n",
       "      <th>4</th>\n",
       "      <td>NaN</td>\n",
       "      <td>NaN</td>\n",
       "      <td>NaN</td>\n",
       "      <td>NaN</td>\n",
       "      <td>NaN</td>\n",
       "      <td>None</td>\n",
       "      <td>None</td>\n",
       "      <td>Mon May 04 05:37:37 +0000 2020</td>\n",
       "      <td>{'hashtags': [{'text': 'LulaLivre', 'indices':...</td>\n",
       "      <td>NaN</td>\n",
       "      <td>...</td>\n",
       "      <td>1.257143e+18</td>\n",
       "      <td>1257142924560814080</td>\n",
       "      <td>0.0</td>\n",
       "      <td>False</td>\n",
       "      <td>NaN</td>\n",
       "      <td>&lt;a href=\"http://twitter.com/download/android\" ...</td>\n",
       "      <td>brasil fod kkk</td>\n",
       "      <td>False</td>\n",
       "      <td>{'id': 1178424685735886848, 'id_str': '1178424...</td>\n",
       "      <td>left</td>\n",
       "    </tr>\n",
       "  </tbody>\n",
       "</table>\n",
       "<p>5 rows × 37 columns</p>\n",
       "</div>"
      ],
      "text/plain": [
       "  #LulaInocente #LulaLivre #LulaMelhorPresidente #bolsonarofora  \\\n",
       "0           NaN        NaN                   NaN            NaN   \n",
       "1           NaN        NaN                   NaN            NaN   \n",
       "2           NaN        NaN                   NaN            NaN   \n",
       "3           NaN        NaN                   NaN            NaN   \n",
       "4           NaN        NaN                   NaN            NaN   \n",
       "\n",
       "  #bolsonarovaicair contributors coordinates                      created_at  \\\n",
       "0               NaN         None        None  Mon May 04 07:17:08 +0000 2020   \n",
       "1               NaN         None        None  Mon May 04 06:35:59 +0000 2020   \n",
       "2               NaN         None        None  Mon May 04 06:27:45 +0000 2020   \n",
       "3               NaN         None        None  Mon May 04 06:01:06 +0000 2020   \n",
       "4               NaN         None        None  Mon May 04 05:37:37 +0000 2020   \n",
       "\n",
       "                                            entities extended_entities  \\\n",
       "0  {'hashtags': [{'text': 'midianinja', 'indices'...               NaN   \n",
       "1  {'hashtags': [{'text': 'Lulalivre', 'indices':...               NaN   \n",
       "2  {'hashtags': [{'text': 'LulaLivre', 'indices':...               NaN   \n",
       "3  {'hashtags': [{'text': 'LulaLivre', 'indices':...               NaN   \n",
       "4  {'hashtags': [{'text': 'LulaLivre', 'indices':...               NaN   \n",
       "\n",
       "     ...     quoted_status_id quoted_status_id_str retweet_count retweeted  \\\n",
       "0    ...                  NaN                  NaN           0.0     False   \n",
       "1    ...                  NaN                  NaN           0.0     False   \n",
       "2    ...                  NaN                  NaN           0.0     False   \n",
       "3    ...                  NaN                  NaN           0.0     False   \n",
       "4    ...         1.257143e+18  1257142924560814080           0.0     False   \n",
       "\n",
       "   retweeted_status                                             source  \\\n",
       "0               NaN  <a href=\"http://twitter.com/download/android\" ...   \n",
       "1               NaN  <a href=\"http://twitter.com/download/iphone\" r...   \n",
       "2               NaN  <a href=\"http://twitter.com/download/iphone\" r...   \n",
       "3               NaN  <a href=\"http://twitter.com/download/android\" ...   \n",
       "4               NaN  <a href=\"http://twitter.com/download/android\" ...   \n",
       "\n",
       "                                          tweet_text  truncated  \\\n",
       "0                     \" aí pod dur , porqu nad .\" …        True   \n",
       "1  nad quer ! sempr busc crít constru . lembr man...      False   \n",
       "2                              kkkkkkkkkkkk ah mand       False   \n",
       "3                    pri twitt conseg verific ent 🤔       False   \n",
       "4                                    brasil fod kkk       False   \n",
       "\n",
       "                                                user  politics  \n",
       "0  {'id': 35885675, 'id_str': '35885675', 'name':...      left  \n",
       "1  {'id': 1128405662776602624, 'id_str': '1128405...      left  \n",
       "2  {'id': 982739905964134400, 'id_str': '98273990...      left  \n",
       "3  {'id': 1220467616357191680, 'id_str': '1220467...      left  \n",
       "4  {'id': 1178424685735886848, 'id_str': '1178424...      left  \n",
       "\n",
       "[5 rows x 37 columns]"
      ]
     },
     "execution_count": 253,
     "metadata": {},
     "output_type": "execute_result"
    }
   ],
   "source": [
    "left_hash_df.head()"
   ]
  },
  {
   "cell_type": "markdown",
   "metadata": {},
   "source": [
    "# User Data"
   ]
  },
  {
   "cell_type": "code",
   "execution_count": 252,
   "metadata": {},
   "outputs": [],
   "source": [
    "left_hash_df = left_hash_df.reset_index(drop=True)\n",
    "left_users = []\n",
    "for i in range(0,len(left_hash_df)):\n",
    "    newUser = []\n",
    "    newUser.append(left_hash_df.loc[i]['user']['id'])\n",
    "    newUser.append(left_hash_df.loc[i]['user']['location'])\n",
    "    newUser.append(left_hash_df.loc[i]['user']['description'])\n",
    "    newUser.append(left_hash_df.loc[i]['user']['followers_count'])\n",
    "    newUser.append(left_hash_df.loc[i]['user']['friends_count'])\n",
    "    newUser.append(left_hash_df.loc[i]['user']['statuses_count'])\n",
    "    left_users.append(newUser)"
   ]
  },
  {
   "cell_type": "code",
   "execution_count": 254,
   "metadata": {},
   "outputs": [],
   "source": [
    "left_users_df = pd.DataFrame(left_users)"
   ]
  },
  {
   "cell_type": "code",
   "execution_count": 263,
   "metadata": {},
   "outputs": [
    {
     "data": {
      "text/html": [
       "<div>\n",
       "<style scoped>\n",
       "    .dataframe tbody tr th:only-of-type {\n",
       "        vertical-align: middle;\n",
       "    }\n",
       "\n",
       "    .dataframe tbody tr th {\n",
       "        vertical-align: top;\n",
       "    }\n",
       "\n",
       "    .dataframe thead th {\n",
       "        text-align: right;\n",
       "    }\n",
       "</style>\n",
       "<table border=\"1\" class=\"dataframe\">\n",
       "  <thead>\n",
       "    <tr style=\"text-align: right;\">\n",
       "      <th></th>\n",
       "      <th>id</th>\n",
       "      <th>location</th>\n",
       "      <th>description</th>\n",
       "      <th>followers</th>\n",
       "      <th>friends</th>\n",
       "      <th>statuses</th>\n",
       "    </tr>\n",
       "  </thead>\n",
       "  <tbody>\n",
       "    <tr>\n",
       "      <th>0</th>\n",
       "      <td>35885675</td>\n",
       "      <td>Brasil</td>\n",
       "      <td>Formado em hotelaria,amante da gastronomia,pro...</td>\n",
       "      <td>214</td>\n",
       "      <td>659</td>\n",
       "      <td>203</td>\n",
       "    </tr>\n",
       "    <tr>\n",
       "      <th>1</th>\n",
       "      <td>1128405662776602624</td>\n",
       "      <td></td>\n",
       "      <td>Doomer</td>\n",
       "      <td>28</td>\n",
       "      <td>320</td>\n",
       "      <td>890</td>\n",
       "    </tr>\n",
       "    <tr>\n",
       "      <th>2</th>\n",
       "      <td>982739905964134400</td>\n",
       "      <td></td>\n",
       "      <td>❤️🤍 📸 dani_wmedeiros</td>\n",
       "      <td>207</td>\n",
       "      <td>192</td>\n",
       "      <td>607</td>\n",
       "    </tr>\n",
       "    <tr>\n",
       "      <th>3</th>\n",
       "      <td>1220467616357191680</td>\n",
       "      <td>São Paulo, Brasil</td>\n",
       "      <td>A estrada é generosa e você não quer ver</td>\n",
       "      <td>443</td>\n",
       "      <td>546</td>\n",
       "      <td>7587</td>\n",
       "    </tr>\n",
       "    <tr>\n",
       "      <th>4</th>\n",
       "      <td>1178424685735886848</td>\n",
       "      <td></td>\n",
       "      <td>Garçom e Estagiário TJMG em Caratinga. ⚠️ \\nSo...</td>\n",
       "      <td>107</td>\n",
       "      <td>297</td>\n",
       "      <td>227</td>\n",
       "    </tr>\n",
       "  </tbody>\n",
       "</table>\n",
       "</div>"
      ],
      "text/plain": [
       "                    id           location  \\\n",
       "0             35885675             Brasil   \n",
       "1  1128405662776602624                      \n",
       "2   982739905964134400                      \n",
       "3  1220467616357191680  São Paulo, Brasil   \n",
       "4  1178424685735886848                      \n",
       "\n",
       "                                         description  followers  friends  \\\n",
       "0  Formado em hotelaria,amante da gastronomia,pro...        214      659   \n",
       "1                                             Doomer         28      320   \n",
       "2                               ❤️🤍 📸 dani_wmedeiros        207      192   \n",
       "3           A estrada é generosa e você não quer ver        443      546   \n",
       "4  Garçom e Estagiário TJMG em Caratinga. ⚠️ \\nSo...        107      297   \n",
       "\n",
       "   statuses  \n",
       "0       203  \n",
       "1       890  \n",
       "2       607  \n",
       "3      7587  \n",
       "4       227  "
      ]
     },
     "execution_count": 263,
     "metadata": {},
     "output_type": "execute_result"
    }
   ],
   "source": [
    "left_users_df.head()"
   ]
  },
  {
   "cell_type": "code",
   "execution_count": 262,
   "metadata": {},
   "outputs": [],
   "source": [
    "left_users_df = left_users_df.rename(columns={0:'id',1:'location',2:'description',3:'followers',\n",
    "                                              4:'friends',5:'statuses'})"
   ]
  },
  {
   "cell_type": "code",
   "execution_count": 264,
   "metadata": {},
   "outputs": [],
   "source": [
    "right_hash_df = right_hash_df.reset_index(drop=True)\n",
    "right_users = []\n",
    "for i in range(0,len(right_hash_df)):\n",
    "    newUser = []\n",
    "    newUser.append(right_hash_df.loc[i]['user']['id'])\n",
    "    newUser.append(right_hash_df.loc[i]['user']['location'])\n",
    "    newUser.append(right_hash_df.loc[i]['user']['description'])\n",
    "    newUser.append(right_hash_df.loc[i]['user']['followers_count'])\n",
    "    newUser.append(right_hash_df.loc[i]['user']['friends_count'])\n",
    "    newUser.append(right_hash_df.loc[i]['user']['statuses_count'])\n",
    "    right_users.append(newUser)\n",
    "    \n",
    "right_users_df = pd.DataFrame(right_users)"
   ]
  },
  {
   "cell_type": "code",
   "execution_count": null,
   "metadata": {},
   "outputs": [],
   "source": []
  }
 ],
 "metadata": {
  "kernelspec": {
   "display_name": "Python 3",
   "language": "python",
   "name": "python3"
  },
  "language_info": {
   "codemirror_mode": {
    "name": "ipython",
    "version": 3
   },
   "file_extension": ".py",
   "mimetype": "text/x-python",
   "name": "python",
   "nbconvert_exporter": "python",
   "pygments_lexer": "ipython3",
   "version": "3.7.0"
  }
 },
 "nbformat": 4,
 "nbformat_minor": 1
}
